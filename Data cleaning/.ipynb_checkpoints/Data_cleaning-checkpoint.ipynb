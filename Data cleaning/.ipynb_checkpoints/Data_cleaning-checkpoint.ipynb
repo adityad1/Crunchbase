{
 "cells": [
  {
   "cell_type": "code",
   "execution_count": 1,
   "metadata": {},
   "outputs": [],
   "source": [
    "import pandas as pd"
   ]
  },
  {
   "cell_type": "code",
   "execution_count": 2,
   "metadata": {},
   "outputs": [],
   "source": [
    "cb = pd.read_csv(\"../Datasets/investments_VC.csv\")"
   ]
  },
  {
   "cell_type": "markdown",
   "metadata": {},
   "source": [
    "Importing pandas and reading our file."
   ]
  },
  {
   "cell_type": "code",
   "execution_count": 3,
   "metadata": {},
   "outputs": [
    {
     "data": {
      "text/plain": [
       "(49438, 39)"
      ]
     },
     "execution_count": 3,
     "metadata": {},
     "output_type": "execute_result"
    }
   ],
   "source": [
    "cb.shape"
   ]
  },
  {
   "cell_type": "markdown",
   "metadata": {},
   "source": [
    "Almost 50k instances with 39 attributes for each is hell lot of data."
   ]
  },
  {
   "cell_type": "code",
   "execution_count": 4,
   "metadata": {},
   "outputs": [
    {
     "name": "stdout",
     "output_type": "stream",
     "text": [
      "<class 'pandas.core.frame.DataFrame'>\n",
      "RangeIndex: 49438 entries, 0 to 49437\n",
      "Data columns (total 39 columns):\n",
      " #   Column                Non-Null Count  Dtype  \n",
      "---  ------                --------------  -----  \n",
      " 0   permalink             49438 non-null  object \n",
      " 1   name                  49437 non-null  object \n",
      " 2   homepage_url          45989 non-null  object \n",
      " 3   category_list         45477 non-null  object \n",
      " 4    market               45470 non-null  object \n",
      " 5    funding_total_usd    49438 non-null  object \n",
      " 6   status                48124 non-null  object \n",
      " 7   country_code          44165 non-null  object \n",
      " 8   state_code            30161 non-null  object \n",
      " 9   region                44165 non-null  object \n",
      " 10  city                  43322 non-null  object \n",
      " 11  funding_rounds        49438 non-null  int64  \n",
      " 12  founded_at            38554 non-null  object \n",
      " 13  founded_month         38482 non-null  object \n",
      " 14  founded_quarter       38482 non-null  object \n",
      " 15  founded_year          38482 non-null  float64\n",
      " 16  first_funding_at      49438 non-null  object \n",
      " 17  last_funding_at       49438 non-null  object \n",
      " 18  seed                  49438 non-null  int64  \n",
      " 19  venture               49438 non-null  int64  \n",
      " 20  equity_crowdfunding   49438 non-null  int64  \n",
      " 21  undisclosed           49438 non-null  int64  \n",
      " 22  convertible_note      49438 non-null  int64  \n",
      " 23  debt_financing        49438 non-null  int64  \n",
      " 24  angel                 49438 non-null  int64  \n",
      " 25  grant                 49438 non-null  int64  \n",
      " 26  private_equity        49438 non-null  int64  \n",
      " 27  post_ipo_equity       49438 non-null  int64  \n",
      " 28  post_ipo_debt         49438 non-null  int64  \n",
      " 29  secondary_market      49438 non-null  int64  \n",
      " 30  product_crowdfunding  49438 non-null  int64  \n",
      " 31  round_A               49438 non-null  int64  \n",
      " 32  round_B               49438 non-null  int64  \n",
      " 33  round_C               49438 non-null  int64  \n",
      " 34  round_D               49438 non-null  int64  \n",
      " 35  round_E               49438 non-null  int64  \n",
      " 36  round_F               49438 non-null  int64  \n",
      " 37  round_G               49438 non-null  int64  \n",
      " 38  round_H               49438 non-null  int64  \n",
      "dtypes: float64(1), int64(22), object(16)\n",
      "memory usage: 14.7+ MB\n"
     ]
    }
   ],
   "source": [
    "cb.info()"
   ]
  },
  {
   "cell_type": "markdown",
   "metadata": {},
   "source": [
    "That's just a lot of attributes with their datatypes and number of non-null values too."
   ]
  },
  {
   "cell_type": "code",
   "execution_count": 5,
   "metadata": {},
   "outputs": [
    {
     "data": {
      "text/html": [
       "<div>\n",
       "<style scoped>\n",
       "    .dataframe tbody tr th:only-of-type {\n",
       "        vertical-align: middle;\n",
       "    }\n",
       "\n",
       "    .dataframe tbody tr th {\n",
       "        vertical-align: top;\n",
       "    }\n",
       "\n",
       "    .dataframe thead th {\n",
       "        text-align: right;\n",
       "    }\n",
       "</style>\n",
       "<table border=\"1\" class=\"dataframe\">\n",
       "  <thead>\n",
       "    <tr style=\"text-align: right;\">\n",
       "      <th></th>\n",
       "      <th>funding_rounds</th>\n",
       "      <th>founded_year</th>\n",
       "      <th>seed</th>\n",
       "      <th>venture</th>\n",
       "      <th>equity_crowdfunding</th>\n",
       "      <th>undisclosed</th>\n",
       "      <th>convertible_note</th>\n",
       "      <th>debt_financing</th>\n",
       "      <th>angel</th>\n",
       "      <th>grant</th>\n",
       "      <th>...</th>\n",
       "      <th>secondary_market</th>\n",
       "      <th>product_crowdfunding</th>\n",
       "      <th>round_A</th>\n",
       "      <th>round_B</th>\n",
       "      <th>round_C</th>\n",
       "      <th>round_D</th>\n",
       "      <th>round_E</th>\n",
       "      <th>round_F</th>\n",
       "      <th>round_G</th>\n",
       "      <th>round_H</th>\n",
       "    </tr>\n",
       "  </thead>\n",
       "  <tbody>\n",
       "    <tr>\n",
       "      <th>count</th>\n",
       "      <td>49438.000000</td>\n",
       "      <td>38482.000000</td>\n",
       "      <td>4.943800e+04</td>\n",
       "      <td>4.943800e+04</td>\n",
       "      <td>4.943800e+04</td>\n",
       "      <td>4.943800e+04</td>\n",
       "      <td>4.943800e+04</td>\n",
       "      <td>4.943800e+04</td>\n",
       "      <td>4.943800e+04</td>\n",
       "      <td>4.943800e+04</td>\n",
       "      <td>...</td>\n",
       "      <td>4.943800e+04</td>\n",
       "      <td>4.943800e+04</td>\n",
       "      <td>4.943800e+04</td>\n",
       "      <td>4.943800e+04</td>\n",
       "      <td>4.943800e+04</td>\n",
       "      <td>4.943800e+04</td>\n",
       "      <td>4.943800e+04</td>\n",
       "      <td>4.943800e+04</td>\n",
       "      <td>4.943800e+04</td>\n",
       "      <td>4.943800e+04</td>\n",
       "    </tr>\n",
       "    <tr>\n",
       "      <th>mean</th>\n",
       "      <td>1.696205</td>\n",
       "      <td>2007.359129</td>\n",
       "      <td>2.173215e+05</td>\n",
       "      <td>7.501051e+06</td>\n",
       "      <td>6.163322e+03</td>\n",
       "      <td>1.302213e+05</td>\n",
       "      <td>2.336410e+04</td>\n",
       "      <td>1.888157e+06</td>\n",
       "      <td>6.541898e+04</td>\n",
       "      <td>1.628453e+05</td>\n",
       "      <td>...</td>\n",
       "      <td>3.845592e+04</td>\n",
       "      <td>7.074227e+03</td>\n",
       "      <td>1.243955e+06</td>\n",
       "      <td>1.492891e+06</td>\n",
       "      <td>1.205356e+06</td>\n",
       "      <td>7.375261e+05</td>\n",
       "      <td>3.424682e+05</td>\n",
       "      <td>1.697692e+05</td>\n",
       "      <td>5.767067e+04</td>\n",
       "      <td>1.423197e+04</td>\n",
       "    </tr>\n",
       "    <tr>\n",
       "      <th>std</th>\n",
       "      <td>1.294213</td>\n",
       "      <td>7.579203</td>\n",
       "      <td>1.056985e+06</td>\n",
       "      <td>2.847112e+07</td>\n",
       "      <td>1.999048e+05</td>\n",
       "      <td>2.981404e+06</td>\n",
       "      <td>1.432046e+06</td>\n",
       "      <td>1.382046e+08</td>\n",
       "      <td>6.582908e+05</td>\n",
       "      <td>5.612088e+06</td>\n",
       "      <td>...</td>\n",
       "      <td>3.864461e+06</td>\n",
       "      <td>4.282166e+05</td>\n",
       "      <td>5.531974e+06</td>\n",
       "      <td>7.472704e+06</td>\n",
       "      <td>7.993592e+06</td>\n",
       "      <td>9.815218e+06</td>\n",
       "      <td>5.406915e+06</td>\n",
       "      <td>6.277905e+06</td>\n",
       "      <td>5.252312e+06</td>\n",
       "      <td>2.716865e+06</td>\n",
       "    </tr>\n",
       "    <tr>\n",
       "      <th>min</th>\n",
       "      <td>1.000000</td>\n",
       "      <td>1902.000000</td>\n",
       "      <td>0.000000e+00</td>\n",
       "      <td>0.000000e+00</td>\n",
       "      <td>0.000000e+00</td>\n",
       "      <td>0.000000e+00</td>\n",
       "      <td>0.000000e+00</td>\n",
       "      <td>0.000000e+00</td>\n",
       "      <td>0.000000e+00</td>\n",
       "      <td>0.000000e+00</td>\n",
       "      <td>...</td>\n",
       "      <td>0.000000e+00</td>\n",
       "      <td>0.000000e+00</td>\n",
       "      <td>0.000000e+00</td>\n",
       "      <td>0.000000e+00</td>\n",
       "      <td>0.000000e+00</td>\n",
       "      <td>0.000000e+00</td>\n",
       "      <td>0.000000e+00</td>\n",
       "      <td>0.000000e+00</td>\n",
       "      <td>0.000000e+00</td>\n",
       "      <td>0.000000e+00</td>\n",
       "    </tr>\n",
       "    <tr>\n",
       "      <th>25%</th>\n",
       "      <td>1.000000</td>\n",
       "      <td>2006.000000</td>\n",
       "      <td>0.000000e+00</td>\n",
       "      <td>0.000000e+00</td>\n",
       "      <td>0.000000e+00</td>\n",
       "      <td>0.000000e+00</td>\n",
       "      <td>0.000000e+00</td>\n",
       "      <td>0.000000e+00</td>\n",
       "      <td>0.000000e+00</td>\n",
       "      <td>0.000000e+00</td>\n",
       "      <td>...</td>\n",
       "      <td>0.000000e+00</td>\n",
       "      <td>0.000000e+00</td>\n",
       "      <td>0.000000e+00</td>\n",
       "      <td>0.000000e+00</td>\n",
       "      <td>0.000000e+00</td>\n",
       "      <td>0.000000e+00</td>\n",
       "      <td>0.000000e+00</td>\n",
       "      <td>0.000000e+00</td>\n",
       "      <td>0.000000e+00</td>\n",
       "      <td>0.000000e+00</td>\n",
       "    </tr>\n",
       "    <tr>\n",
       "      <th>50%</th>\n",
       "      <td>1.000000</td>\n",
       "      <td>2010.000000</td>\n",
       "      <td>0.000000e+00</td>\n",
       "      <td>0.000000e+00</td>\n",
       "      <td>0.000000e+00</td>\n",
       "      <td>0.000000e+00</td>\n",
       "      <td>0.000000e+00</td>\n",
       "      <td>0.000000e+00</td>\n",
       "      <td>0.000000e+00</td>\n",
       "      <td>0.000000e+00</td>\n",
       "      <td>...</td>\n",
       "      <td>0.000000e+00</td>\n",
       "      <td>0.000000e+00</td>\n",
       "      <td>0.000000e+00</td>\n",
       "      <td>0.000000e+00</td>\n",
       "      <td>0.000000e+00</td>\n",
       "      <td>0.000000e+00</td>\n",
       "      <td>0.000000e+00</td>\n",
       "      <td>0.000000e+00</td>\n",
       "      <td>0.000000e+00</td>\n",
       "      <td>0.000000e+00</td>\n",
       "    </tr>\n",
       "    <tr>\n",
       "      <th>75%</th>\n",
       "      <td>2.000000</td>\n",
       "      <td>2012.000000</td>\n",
       "      <td>2.500000e+04</td>\n",
       "      <td>5.000000e+06</td>\n",
       "      <td>0.000000e+00</td>\n",
       "      <td>0.000000e+00</td>\n",
       "      <td>0.000000e+00</td>\n",
       "      <td>0.000000e+00</td>\n",
       "      <td>0.000000e+00</td>\n",
       "      <td>0.000000e+00</td>\n",
       "      <td>...</td>\n",
       "      <td>0.000000e+00</td>\n",
       "      <td>0.000000e+00</td>\n",
       "      <td>0.000000e+00</td>\n",
       "      <td>0.000000e+00</td>\n",
       "      <td>0.000000e+00</td>\n",
       "      <td>0.000000e+00</td>\n",
       "      <td>0.000000e+00</td>\n",
       "      <td>0.000000e+00</td>\n",
       "      <td>0.000000e+00</td>\n",
       "      <td>0.000000e+00</td>\n",
       "    </tr>\n",
       "    <tr>\n",
       "      <th>max</th>\n",
       "      <td>18.000000</td>\n",
       "      <td>2014.000000</td>\n",
       "      <td>1.300000e+08</td>\n",
       "      <td>2.351000e+09</td>\n",
       "      <td>2.500000e+07</td>\n",
       "      <td>2.924328e+08</td>\n",
       "      <td>3.000000e+08</td>\n",
       "      <td>3.007950e+10</td>\n",
       "      <td>6.359026e+07</td>\n",
       "      <td>7.505000e+08</td>\n",
       "      <td>...</td>\n",
       "      <td>6.806116e+08</td>\n",
       "      <td>7.200000e+07</td>\n",
       "      <td>3.190000e+08</td>\n",
       "      <td>5.420000e+08</td>\n",
       "      <td>4.900000e+08</td>\n",
       "      <td>1.200000e+09</td>\n",
       "      <td>4.000000e+08</td>\n",
       "      <td>1.060000e+09</td>\n",
       "      <td>1.000000e+09</td>\n",
       "      <td>6.000000e+08</td>\n",
       "    </tr>\n",
       "  </tbody>\n",
       "</table>\n",
       "<p>8 rows × 23 columns</p>\n",
       "</div>"
      ],
      "text/plain": [
       "       funding_rounds  founded_year          seed       venture  \\\n",
       "count    49438.000000  38482.000000  4.943800e+04  4.943800e+04   \n",
       "mean         1.696205   2007.359129  2.173215e+05  7.501051e+06   \n",
       "std          1.294213      7.579203  1.056985e+06  2.847112e+07   \n",
       "min          1.000000   1902.000000  0.000000e+00  0.000000e+00   \n",
       "25%          1.000000   2006.000000  0.000000e+00  0.000000e+00   \n",
       "50%          1.000000   2010.000000  0.000000e+00  0.000000e+00   \n",
       "75%          2.000000   2012.000000  2.500000e+04  5.000000e+06   \n",
       "max         18.000000   2014.000000  1.300000e+08  2.351000e+09   \n",
       "\n",
       "       equity_crowdfunding   undisclosed  convertible_note  debt_financing  \\\n",
       "count         4.943800e+04  4.943800e+04      4.943800e+04    4.943800e+04   \n",
       "mean          6.163322e+03  1.302213e+05      2.336410e+04    1.888157e+06   \n",
       "std           1.999048e+05  2.981404e+06      1.432046e+06    1.382046e+08   \n",
       "min           0.000000e+00  0.000000e+00      0.000000e+00    0.000000e+00   \n",
       "25%           0.000000e+00  0.000000e+00      0.000000e+00    0.000000e+00   \n",
       "50%           0.000000e+00  0.000000e+00      0.000000e+00    0.000000e+00   \n",
       "75%           0.000000e+00  0.000000e+00      0.000000e+00    0.000000e+00   \n",
       "max           2.500000e+07  2.924328e+08      3.000000e+08    3.007950e+10   \n",
       "\n",
       "              angel         grant  ...  secondary_market  \\\n",
       "count  4.943800e+04  4.943800e+04  ...      4.943800e+04   \n",
       "mean   6.541898e+04  1.628453e+05  ...      3.845592e+04   \n",
       "std    6.582908e+05  5.612088e+06  ...      3.864461e+06   \n",
       "min    0.000000e+00  0.000000e+00  ...      0.000000e+00   \n",
       "25%    0.000000e+00  0.000000e+00  ...      0.000000e+00   \n",
       "50%    0.000000e+00  0.000000e+00  ...      0.000000e+00   \n",
       "75%    0.000000e+00  0.000000e+00  ...      0.000000e+00   \n",
       "max    6.359026e+07  7.505000e+08  ...      6.806116e+08   \n",
       "\n",
       "       product_crowdfunding       round_A       round_B       round_C  \\\n",
       "count          4.943800e+04  4.943800e+04  4.943800e+04  4.943800e+04   \n",
       "mean           7.074227e+03  1.243955e+06  1.492891e+06  1.205356e+06   \n",
       "std            4.282166e+05  5.531974e+06  7.472704e+06  7.993592e+06   \n",
       "min            0.000000e+00  0.000000e+00  0.000000e+00  0.000000e+00   \n",
       "25%            0.000000e+00  0.000000e+00  0.000000e+00  0.000000e+00   \n",
       "50%            0.000000e+00  0.000000e+00  0.000000e+00  0.000000e+00   \n",
       "75%            0.000000e+00  0.000000e+00  0.000000e+00  0.000000e+00   \n",
       "max            7.200000e+07  3.190000e+08  5.420000e+08  4.900000e+08   \n",
       "\n",
       "            round_D       round_E       round_F       round_G       round_H  \n",
       "count  4.943800e+04  4.943800e+04  4.943800e+04  4.943800e+04  4.943800e+04  \n",
       "mean   7.375261e+05  3.424682e+05  1.697692e+05  5.767067e+04  1.423197e+04  \n",
       "std    9.815218e+06  5.406915e+06  6.277905e+06  5.252312e+06  2.716865e+06  \n",
       "min    0.000000e+00  0.000000e+00  0.000000e+00  0.000000e+00  0.000000e+00  \n",
       "25%    0.000000e+00  0.000000e+00  0.000000e+00  0.000000e+00  0.000000e+00  \n",
       "50%    0.000000e+00  0.000000e+00  0.000000e+00  0.000000e+00  0.000000e+00  \n",
       "75%    0.000000e+00  0.000000e+00  0.000000e+00  0.000000e+00  0.000000e+00  \n",
       "max    1.200000e+09  4.000000e+08  1.060000e+09  1.000000e+09  6.000000e+08  \n",
       "\n",
       "[8 rows x 23 columns]"
      ]
     },
     "execution_count": 5,
     "metadata": {},
     "output_type": "execute_result"
    }
   ],
   "source": [
    "cb.describe()"
   ]
  },
  {
   "cell_type": "markdown",
   "metadata": {},
   "source": [
    "All the attributes are filled except the founded_year.  \n",
    "Also, year is supposed to be categorical rather than considered for numerical analysis.  \n",
    "Let's change that up ..."
   ]
  },
  {
   "cell_type": "code",
   "execution_count": 6,
   "metadata": {},
   "outputs": [],
   "source": [
    "cb['founded_year'] = cb['founded_year'].astype('category')"
   ]
  },
  {
   "cell_type": "markdown",
   "metadata": {},
   "source": [
    "Series.astype changes the datatype of all the elements in the series to the specified datatype."
   ]
  },
  {
   "cell_type": "code",
   "execution_count": 7,
   "metadata": {},
   "outputs": [
    {
     "data": {
      "text/html": [
       "<div>\n",
       "<style scoped>\n",
       "    .dataframe tbody tr th:only-of-type {\n",
       "        vertical-align: middle;\n",
       "    }\n",
       "\n",
       "    .dataframe tbody tr th {\n",
       "        vertical-align: top;\n",
       "    }\n",
       "\n",
       "    .dataframe thead th {\n",
       "        text-align: right;\n",
       "    }\n",
       "</style>\n",
       "<table border=\"1\" class=\"dataframe\">\n",
       "  <thead>\n",
       "    <tr style=\"text-align: right;\">\n",
       "      <th></th>\n",
       "      <th>funding_rounds</th>\n",
       "      <th>seed</th>\n",
       "      <th>venture</th>\n",
       "      <th>equity_crowdfunding</th>\n",
       "      <th>undisclosed</th>\n",
       "      <th>convertible_note</th>\n",
       "      <th>debt_financing</th>\n",
       "      <th>angel</th>\n",
       "      <th>grant</th>\n",
       "      <th>private_equity</th>\n",
       "      <th>...</th>\n",
       "      <th>secondary_market</th>\n",
       "      <th>product_crowdfunding</th>\n",
       "      <th>round_A</th>\n",
       "      <th>round_B</th>\n",
       "      <th>round_C</th>\n",
       "      <th>round_D</th>\n",
       "      <th>round_E</th>\n",
       "      <th>round_F</th>\n",
       "      <th>round_G</th>\n",
       "      <th>round_H</th>\n",
       "    </tr>\n",
       "  </thead>\n",
       "  <tbody>\n",
       "    <tr>\n",
       "      <th>count</th>\n",
       "      <td>49438.000000</td>\n",
       "      <td>4.943800e+04</td>\n",
       "      <td>4.943800e+04</td>\n",
       "      <td>4.943800e+04</td>\n",
       "      <td>4.943800e+04</td>\n",
       "      <td>4.943800e+04</td>\n",
       "      <td>4.943800e+04</td>\n",
       "      <td>4.943800e+04</td>\n",
       "      <td>4.943800e+04</td>\n",
       "      <td>4.943800e+04</td>\n",
       "      <td>...</td>\n",
       "      <td>4.943800e+04</td>\n",
       "      <td>4.943800e+04</td>\n",
       "      <td>4.943800e+04</td>\n",
       "      <td>4.943800e+04</td>\n",
       "      <td>4.943800e+04</td>\n",
       "      <td>4.943800e+04</td>\n",
       "      <td>4.943800e+04</td>\n",
       "      <td>4.943800e+04</td>\n",
       "      <td>4.943800e+04</td>\n",
       "      <td>4.943800e+04</td>\n",
       "    </tr>\n",
       "    <tr>\n",
       "      <th>mean</th>\n",
       "      <td>1.696205</td>\n",
       "      <td>2.173215e+05</td>\n",
       "      <td>7.501051e+06</td>\n",
       "      <td>6.163322e+03</td>\n",
       "      <td>1.302213e+05</td>\n",
       "      <td>2.336410e+04</td>\n",
       "      <td>1.888157e+06</td>\n",
       "      <td>6.541898e+04</td>\n",
       "      <td>1.628453e+05</td>\n",
       "      <td>2.074286e+06</td>\n",
       "      <td>...</td>\n",
       "      <td>3.845592e+04</td>\n",
       "      <td>7.074227e+03</td>\n",
       "      <td>1.243955e+06</td>\n",
       "      <td>1.492891e+06</td>\n",
       "      <td>1.205356e+06</td>\n",
       "      <td>7.375261e+05</td>\n",
       "      <td>3.424682e+05</td>\n",
       "      <td>1.697692e+05</td>\n",
       "      <td>5.767067e+04</td>\n",
       "      <td>1.423197e+04</td>\n",
       "    </tr>\n",
       "    <tr>\n",
       "      <th>std</th>\n",
       "      <td>1.294213</td>\n",
       "      <td>1.056985e+06</td>\n",
       "      <td>2.847112e+07</td>\n",
       "      <td>1.999048e+05</td>\n",
       "      <td>2.981404e+06</td>\n",
       "      <td>1.432046e+06</td>\n",
       "      <td>1.382046e+08</td>\n",
       "      <td>6.582908e+05</td>\n",
       "      <td>5.612088e+06</td>\n",
       "      <td>3.167231e+07</td>\n",
       "      <td>...</td>\n",
       "      <td>3.864461e+06</td>\n",
       "      <td>4.282166e+05</td>\n",
       "      <td>5.531974e+06</td>\n",
       "      <td>7.472704e+06</td>\n",
       "      <td>7.993592e+06</td>\n",
       "      <td>9.815218e+06</td>\n",
       "      <td>5.406915e+06</td>\n",
       "      <td>6.277905e+06</td>\n",
       "      <td>5.252312e+06</td>\n",
       "      <td>2.716865e+06</td>\n",
       "    </tr>\n",
       "    <tr>\n",
       "      <th>min</th>\n",
       "      <td>1.000000</td>\n",
       "      <td>0.000000e+00</td>\n",
       "      <td>0.000000e+00</td>\n",
       "      <td>0.000000e+00</td>\n",
       "      <td>0.000000e+00</td>\n",
       "      <td>0.000000e+00</td>\n",
       "      <td>0.000000e+00</td>\n",
       "      <td>0.000000e+00</td>\n",
       "      <td>0.000000e+00</td>\n",
       "      <td>0.000000e+00</td>\n",
       "      <td>...</td>\n",
       "      <td>0.000000e+00</td>\n",
       "      <td>0.000000e+00</td>\n",
       "      <td>0.000000e+00</td>\n",
       "      <td>0.000000e+00</td>\n",
       "      <td>0.000000e+00</td>\n",
       "      <td>0.000000e+00</td>\n",
       "      <td>0.000000e+00</td>\n",
       "      <td>0.000000e+00</td>\n",
       "      <td>0.000000e+00</td>\n",
       "      <td>0.000000e+00</td>\n",
       "    </tr>\n",
       "    <tr>\n",
       "      <th>25%</th>\n",
       "      <td>1.000000</td>\n",
       "      <td>0.000000e+00</td>\n",
       "      <td>0.000000e+00</td>\n",
       "      <td>0.000000e+00</td>\n",
       "      <td>0.000000e+00</td>\n",
       "      <td>0.000000e+00</td>\n",
       "      <td>0.000000e+00</td>\n",
       "      <td>0.000000e+00</td>\n",
       "      <td>0.000000e+00</td>\n",
       "      <td>0.000000e+00</td>\n",
       "      <td>...</td>\n",
       "      <td>0.000000e+00</td>\n",
       "      <td>0.000000e+00</td>\n",
       "      <td>0.000000e+00</td>\n",
       "      <td>0.000000e+00</td>\n",
       "      <td>0.000000e+00</td>\n",
       "      <td>0.000000e+00</td>\n",
       "      <td>0.000000e+00</td>\n",
       "      <td>0.000000e+00</td>\n",
       "      <td>0.000000e+00</td>\n",
       "      <td>0.000000e+00</td>\n",
       "    </tr>\n",
       "    <tr>\n",
       "      <th>50%</th>\n",
       "      <td>1.000000</td>\n",
       "      <td>0.000000e+00</td>\n",
       "      <td>0.000000e+00</td>\n",
       "      <td>0.000000e+00</td>\n",
       "      <td>0.000000e+00</td>\n",
       "      <td>0.000000e+00</td>\n",
       "      <td>0.000000e+00</td>\n",
       "      <td>0.000000e+00</td>\n",
       "      <td>0.000000e+00</td>\n",
       "      <td>0.000000e+00</td>\n",
       "      <td>...</td>\n",
       "      <td>0.000000e+00</td>\n",
       "      <td>0.000000e+00</td>\n",
       "      <td>0.000000e+00</td>\n",
       "      <td>0.000000e+00</td>\n",
       "      <td>0.000000e+00</td>\n",
       "      <td>0.000000e+00</td>\n",
       "      <td>0.000000e+00</td>\n",
       "      <td>0.000000e+00</td>\n",
       "      <td>0.000000e+00</td>\n",
       "      <td>0.000000e+00</td>\n",
       "    </tr>\n",
       "    <tr>\n",
       "      <th>75%</th>\n",
       "      <td>2.000000</td>\n",
       "      <td>2.500000e+04</td>\n",
       "      <td>5.000000e+06</td>\n",
       "      <td>0.000000e+00</td>\n",
       "      <td>0.000000e+00</td>\n",
       "      <td>0.000000e+00</td>\n",
       "      <td>0.000000e+00</td>\n",
       "      <td>0.000000e+00</td>\n",
       "      <td>0.000000e+00</td>\n",
       "      <td>0.000000e+00</td>\n",
       "      <td>...</td>\n",
       "      <td>0.000000e+00</td>\n",
       "      <td>0.000000e+00</td>\n",
       "      <td>0.000000e+00</td>\n",
       "      <td>0.000000e+00</td>\n",
       "      <td>0.000000e+00</td>\n",
       "      <td>0.000000e+00</td>\n",
       "      <td>0.000000e+00</td>\n",
       "      <td>0.000000e+00</td>\n",
       "      <td>0.000000e+00</td>\n",
       "      <td>0.000000e+00</td>\n",
       "    </tr>\n",
       "    <tr>\n",
       "      <th>max</th>\n",
       "      <td>18.000000</td>\n",
       "      <td>1.300000e+08</td>\n",
       "      <td>2.351000e+09</td>\n",
       "      <td>2.500000e+07</td>\n",
       "      <td>2.924328e+08</td>\n",
       "      <td>3.000000e+08</td>\n",
       "      <td>3.007950e+10</td>\n",
       "      <td>6.359026e+07</td>\n",
       "      <td>7.505000e+08</td>\n",
       "      <td>3.500000e+09</td>\n",
       "      <td>...</td>\n",
       "      <td>6.806116e+08</td>\n",
       "      <td>7.200000e+07</td>\n",
       "      <td>3.190000e+08</td>\n",
       "      <td>5.420000e+08</td>\n",
       "      <td>4.900000e+08</td>\n",
       "      <td>1.200000e+09</td>\n",
       "      <td>4.000000e+08</td>\n",
       "      <td>1.060000e+09</td>\n",
       "      <td>1.000000e+09</td>\n",
       "      <td>6.000000e+08</td>\n",
       "    </tr>\n",
       "  </tbody>\n",
       "</table>\n",
       "<p>8 rows × 22 columns</p>\n",
       "</div>"
      ],
      "text/plain": [
       "       funding_rounds          seed       venture  equity_crowdfunding  \\\n",
       "count    49438.000000  4.943800e+04  4.943800e+04         4.943800e+04   \n",
       "mean         1.696205  2.173215e+05  7.501051e+06         6.163322e+03   \n",
       "std          1.294213  1.056985e+06  2.847112e+07         1.999048e+05   \n",
       "min          1.000000  0.000000e+00  0.000000e+00         0.000000e+00   \n",
       "25%          1.000000  0.000000e+00  0.000000e+00         0.000000e+00   \n",
       "50%          1.000000  0.000000e+00  0.000000e+00         0.000000e+00   \n",
       "75%          2.000000  2.500000e+04  5.000000e+06         0.000000e+00   \n",
       "max         18.000000  1.300000e+08  2.351000e+09         2.500000e+07   \n",
       "\n",
       "        undisclosed  convertible_note  debt_financing         angel  \\\n",
       "count  4.943800e+04      4.943800e+04    4.943800e+04  4.943800e+04   \n",
       "mean   1.302213e+05      2.336410e+04    1.888157e+06  6.541898e+04   \n",
       "std    2.981404e+06      1.432046e+06    1.382046e+08  6.582908e+05   \n",
       "min    0.000000e+00      0.000000e+00    0.000000e+00  0.000000e+00   \n",
       "25%    0.000000e+00      0.000000e+00    0.000000e+00  0.000000e+00   \n",
       "50%    0.000000e+00      0.000000e+00    0.000000e+00  0.000000e+00   \n",
       "75%    0.000000e+00      0.000000e+00    0.000000e+00  0.000000e+00   \n",
       "max    2.924328e+08      3.000000e+08    3.007950e+10  6.359026e+07   \n",
       "\n",
       "              grant  private_equity  ...  secondary_market  \\\n",
       "count  4.943800e+04    4.943800e+04  ...      4.943800e+04   \n",
       "mean   1.628453e+05    2.074286e+06  ...      3.845592e+04   \n",
       "std    5.612088e+06    3.167231e+07  ...      3.864461e+06   \n",
       "min    0.000000e+00    0.000000e+00  ...      0.000000e+00   \n",
       "25%    0.000000e+00    0.000000e+00  ...      0.000000e+00   \n",
       "50%    0.000000e+00    0.000000e+00  ...      0.000000e+00   \n",
       "75%    0.000000e+00    0.000000e+00  ...      0.000000e+00   \n",
       "max    7.505000e+08    3.500000e+09  ...      6.806116e+08   \n",
       "\n",
       "       product_crowdfunding       round_A       round_B       round_C  \\\n",
       "count          4.943800e+04  4.943800e+04  4.943800e+04  4.943800e+04   \n",
       "mean           7.074227e+03  1.243955e+06  1.492891e+06  1.205356e+06   \n",
       "std            4.282166e+05  5.531974e+06  7.472704e+06  7.993592e+06   \n",
       "min            0.000000e+00  0.000000e+00  0.000000e+00  0.000000e+00   \n",
       "25%            0.000000e+00  0.000000e+00  0.000000e+00  0.000000e+00   \n",
       "50%            0.000000e+00  0.000000e+00  0.000000e+00  0.000000e+00   \n",
       "75%            0.000000e+00  0.000000e+00  0.000000e+00  0.000000e+00   \n",
       "max            7.200000e+07  3.190000e+08  5.420000e+08  4.900000e+08   \n",
       "\n",
       "            round_D       round_E       round_F       round_G       round_H  \n",
       "count  4.943800e+04  4.943800e+04  4.943800e+04  4.943800e+04  4.943800e+04  \n",
       "mean   7.375261e+05  3.424682e+05  1.697692e+05  5.767067e+04  1.423197e+04  \n",
       "std    9.815218e+06  5.406915e+06  6.277905e+06  5.252312e+06  2.716865e+06  \n",
       "min    0.000000e+00  0.000000e+00  0.000000e+00  0.000000e+00  0.000000e+00  \n",
       "25%    0.000000e+00  0.000000e+00  0.000000e+00  0.000000e+00  0.000000e+00  \n",
       "50%    0.000000e+00  0.000000e+00  0.000000e+00  0.000000e+00  0.000000e+00  \n",
       "75%    0.000000e+00  0.000000e+00  0.000000e+00  0.000000e+00  0.000000e+00  \n",
       "max    1.200000e+09  4.000000e+08  1.060000e+09  1.000000e+09  6.000000e+08  \n",
       "\n",
       "[8 rows x 22 columns]"
      ]
     },
     "execution_count": 7,
     "metadata": {},
     "output_type": "execute_result"
    }
   ],
   "source": [
    "cb.describe()"
   ]
  },
  {
   "cell_type": "markdown",
   "metadata": {},
   "source": [
    "Looks like most of our attributes just have zeroes because only the max row has a value with min, 25%, 50% and 75% all zeroes."
   ]
  },
  {
   "cell_type": "markdown",
   "metadata": {},
   "source": [
    "This dataset needs a linear approach rather than looking at all the values as one."
   ]
  },
  {
   "cell_type": "markdown",
   "metadata": {},
   "source": [
    "# Linear approach"
   ]
  },
  {
   "cell_type": "markdown",
   "metadata": {},
   "source": [
    "## permalink"
   ]
  },
  {
   "cell_type": "code",
   "execution_count": 8,
   "metadata": {},
   "outputs": [
    {
     "data": {
      "text/plain": [
       "30145         /organization/olive-medical-corporation\n",
       "7938     /organization/channelsoft-beijing-technology\n",
       "13403                   /organization/empire-robotics\n",
       "45057                 /organization/universal-devices\n",
       "35511                           /organization/rentish\n",
       "13429                     /organization/emu-solutions\n",
       "45730                        /organization/venueagent\n",
       "30712                         /organization/optiwi-fi\n",
       "22150                            /organization/jongla\n",
       "15516                       /organization/flex-pharma\n",
       "Name: permalink, dtype: object"
      ]
     },
     "execution_count": 8,
     "metadata": {},
     "output_type": "execute_result"
    }
   ],
   "source": [
    "cb.permalink.sample(10)"
   ]
  },
  {
   "cell_type": "raw",
   "metadata": {},
   "source": [
    "That's just random strings but starting with /organization/...  \n",
    "Let's remove that."
   ]
  },
  {
   "cell_type": "code",
   "execution_count": 9,
   "metadata": {},
   "outputs": [],
   "source": [
    "def permalink_rename(x):\n",
    "    return x[14:]\n",
    "cb.permalink = cb.permalink.apply(permalink_rename)"
   ]
  },
  {
   "cell_type": "markdown",
   "metadata": {},
   "source": [
    "Removing the organization in every str."
   ]
  },
  {
   "cell_type": "code",
   "execution_count": 10,
   "metadata": {},
   "outputs": [
    {
     "data": {
      "text/plain": [
       "treasure-valley-urology-services    2\n",
       "prysm                               2\n",
       "bridgeco                            1\n",
       "magnasense                          1\n",
       "fieldbook                           1\n",
       "Name: permalink, dtype: int64"
      ]
     },
     "execution_count": 10,
     "metadata": {},
     "output_type": "execute_result"
    }
   ],
   "source": [
    "cb.permalink.value_counts().head()"
   ]
  },
  {
   "cell_type": "markdown",
   "metadata": {},
   "source": [
    "These strings look like names of the services.  \n",
    "Let's just rename this attribute as organization."
   ]
  },
  {
   "cell_type": "code",
   "execution_count": 11,
   "metadata": {},
   "outputs": [],
   "source": [
    "cb = cb.rename(columns = {'permalink':'Organization'})"
   ]
  },
  {
   "cell_type": "code",
   "execution_count": 12,
   "metadata": {},
   "outputs": [
    {
     "data": {
      "text/html": [
       "<div>\n",
       "<style scoped>\n",
       "    .dataframe tbody tr th:only-of-type {\n",
       "        vertical-align: middle;\n",
       "    }\n",
       "\n",
       "    .dataframe tbody tr th {\n",
       "        vertical-align: top;\n",
       "    }\n",
       "\n",
       "    .dataframe thead th {\n",
       "        text-align: right;\n",
       "    }\n",
       "</style>\n",
       "<table border=\"1\" class=\"dataframe\">\n",
       "  <thead>\n",
       "    <tr style=\"text-align: right;\">\n",
       "      <th></th>\n",
       "      <th>Organization</th>\n",
       "      <th>name</th>\n",
       "      <th>homepage_url</th>\n",
       "      <th>category_list</th>\n",
       "      <th>market</th>\n",
       "      <th>funding_total_usd</th>\n",
       "      <th>status</th>\n",
       "      <th>country_code</th>\n",
       "      <th>state_code</th>\n",
       "      <th>region</th>\n",
       "      <th>...</th>\n",
       "      <th>secondary_market</th>\n",
       "      <th>product_crowdfunding</th>\n",
       "      <th>round_A</th>\n",
       "      <th>round_B</th>\n",
       "      <th>round_C</th>\n",
       "      <th>round_D</th>\n",
       "      <th>round_E</th>\n",
       "      <th>round_F</th>\n",
       "      <th>round_G</th>\n",
       "      <th>round_H</th>\n",
       "    </tr>\n",
       "  </thead>\n",
       "  <tbody>\n",
       "    <tr>\n",
       "      <th>0</th>\n",
       "      <td>waywire</td>\n",
       "      <td>#waywire</td>\n",
       "      <td>http://www.waywire.com</td>\n",
       "      <td>|Entertainment|Politics|Social Media|News|</td>\n",
       "      <td>News</td>\n",
       "      <td>17,50,000</td>\n",
       "      <td>acquired</td>\n",
       "      <td>USA</td>\n",
       "      <td>NY</td>\n",
       "      <td>New York City</td>\n",
       "      <td>...</td>\n",
       "      <td>0</td>\n",
       "      <td>0</td>\n",
       "      <td>0</td>\n",
       "      <td>0</td>\n",
       "      <td>0</td>\n",
       "      <td>0</td>\n",
       "      <td>0</td>\n",
       "      <td>0</td>\n",
       "      <td>0</td>\n",
       "      <td>0</td>\n",
       "    </tr>\n",
       "    <tr>\n",
       "      <th>1</th>\n",
       "      <td>tv-communications</td>\n",
       "      <td>&amp;TV Communications</td>\n",
       "      <td>http://enjoyandtv.com</td>\n",
       "      <td>|Games|</td>\n",
       "      <td>Games</td>\n",
       "      <td>40,00,000</td>\n",
       "      <td>operating</td>\n",
       "      <td>USA</td>\n",
       "      <td>CA</td>\n",
       "      <td>Los Angeles</td>\n",
       "      <td>...</td>\n",
       "      <td>0</td>\n",
       "      <td>0</td>\n",
       "      <td>0</td>\n",
       "      <td>0</td>\n",
       "      <td>0</td>\n",
       "      <td>0</td>\n",
       "      <td>0</td>\n",
       "      <td>0</td>\n",
       "      <td>0</td>\n",
       "      <td>0</td>\n",
       "    </tr>\n",
       "    <tr>\n",
       "      <th>2</th>\n",
       "      <td>rock-your-paper</td>\n",
       "      <td>'Rock' Your Paper</td>\n",
       "      <td>http://www.rockyourpaper.org</td>\n",
       "      <td>|Publishing|Education|</td>\n",
       "      <td>Publishing</td>\n",
       "      <td>40,000</td>\n",
       "      <td>operating</td>\n",
       "      <td>EST</td>\n",
       "      <td>NaN</td>\n",
       "      <td>Tallinn</td>\n",
       "      <td>...</td>\n",
       "      <td>0</td>\n",
       "      <td>0</td>\n",
       "      <td>0</td>\n",
       "      <td>0</td>\n",
       "      <td>0</td>\n",
       "      <td>0</td>\n",
       "      <td>0</td>\n",
       "      <td>0</td>\n",
       "      <td>0</td>\n",
       "      <td>0</td>\n",
       "    </tr>\n",
       "    <tr>\n",
       "      <th>3</th>\n",
       "      <td>in-touch-network</td>\n",
       "      <td>(In)Touch Network</td>\n",
       "      <td>http://www.InTouchNetwork.com</td>\n",
       "      <td>|Electronics|Guides|Coffee|Restaurants|Music|i...</td>\n",
       "      <td>Electronics</td>\n",
       "      <td>15,00,000</td>\n",
       "      <td>operating</td>\n",
       "      <td>GBR</td>\n",
       "      <td>NaN</td>\n",
       "      <td>London</td>\n",
       "      <td>...</td>\n",
       "      <td>0</td>\n",
       "      <td>0</td>\n",
       "      <td>0</td>\n",
       "      <td>0</td>\n",
       "      <td>0</td>\n",
       "      <td>0</td>\n",
       "      <td>0</td>\n",
       "      <td>0</td>\n",
       "      <td>0</td>\n",
       "      <td>0</td>\n",
       "    </tr>\n",
       "    <tr>\n",
       "      <th>4</th>\n",
       "      <td>r-ranch-and-mine</td>\n",
       "      <td>-R- Ranch and Mine</td>\n",
       "      <td>NaN</td>\n",
       "      <td>|Tourism|Entertainment|Games|</td>\n",
       "      <td>Tourism</td>\n",
       "      <td>60,000</td>\n",
       "      <td>operating</td>\n",
       "      <td>USA</td>\n",
       "      <td>TX</td>\n",
       "      <td>Dallas</td>\n",
       "      <td>...</td>\n",
       "      <td>0</td>\n",
       "      <td>0</td>\n",
       "      <td>0</td>\n",
       "      <td>0</td>\n",
       "      <td>0</td>\n",
       "      <td>0</td>\n",
       "      <td>0</td>\n",
       "      <td>0</td>\n",
       "      <td>0</td>\n",
       "      <td>0</td>\n",
       "    </tr>\n",
       "  </tbody>\n",
       "</table>\n",
       "<p>5 rows × 39 columns</p>\n",
       "</div>"
      ],
      "text/plain": [
       "        Organization                name                   homepage_url  \\\n",
       "0            waywire            #waywire         http://www.waywire.com   \n",
       "1  tv-communications  &TV Communications          http://enjoyandtv.com   \n",
       "2    rock-your-paper   'Rock' Your Paper   http://www.rockyourpaper.org   \n",
       "3   in-touch-network   (In)Touch Network  http://www.InTouchNetwork.com   \n",
       "4   r-ranch-and-mine  -R- Ranch and Mine                            NaN   \n",
       "\n",
       "                                       category_list        market   \\\n",
       "0         |Entertainment|Politics|Social Media|News|          News    \n",
       "1                                            |Games|         Games    \n",
       "2                             |Publishing|Education|    Publishing    \n",
       "3  |Electronics|Guides|Coffee|Restaurants|Music|i...   Electronics    \n",
       "4                      |Tourism|Entertainment|Games|       Tourism    \n",
       "\n",
       "   funding_total_usd      status country_code state_code         region  ...  \\\n",
       "0           17,50,000   acquired          USA         NY  New York City  ...   \n",
       "1           40,00,000  operating          USA         CA    Los Angeles  ...   \n",
       "2              40,000  operating          EST        NaN        Tallinn  ...   \n",
       "3           15,00,000  operating          GBR        NaN         London  ...   \n",
       "4              60,000  operating          USA         TX         Dallas  ...   \n",
       "\n",
       "  secondary_market  product_crowdfunding round_A round_B round_C round_D  \\\n",
       "0                0                     0       0       0       0       0   \n",
       "1                0                     0       0       0       0       0   \n",
       "2                0                     0       0       0       0       0   \n",
       "3                0                     0       0       0       0       0   \n",
       "4                0                     0       0       0       0       0   \n",
       "\n",
       "  round_E round_F  round_G  round_H  \n",
       "0       0       0        0        0  \n",
       "1       0       0        0        0  \n",
       "2       0       0        0        0  \n",
       "3       0       0        0        0  \n",
       "4       0       0        0        0  \n",
       "\n",
       "[5 rows x 39 columns]"
      ]
     },
     "execution_count": 12,
     "metadata": {},
     "output_type": "execute_result"
    }
   ],
   "source": [
    "cb.head()"
   ]
  },
  {
   "cell_type": "markdown",
   "metadata": {},
   "source": [
    "Now that that's done, let's look for null values."
   ]
  },
  {
   "cell_type": "code",
   "execution_count": 13,
   "metadata": {},
   "outputs": [
    {
     "data": {
      "text/plain": [
       "0"
      ]
     },
     "execution_count": 13,
     "metadata": {},
     "output_type": "execute_result"
    }
   ],
   "source": [
    "cb.Organization.isna().sum()"
   ]
  },
  {
   "cell_type": "markdown",
   "metadata": {},
   "source": [
    "We seem clear on that line.  \n",
    "Also, if we observe clearly at the head, the name attribute is far too similar to the current attribute.\n",
    "## name"
   ]
  },
  {
   "cell_type": "code",
   "execution_count": 14,
   "metadata": {},
   "outputs": [
    {
     "data": {
      "text/plain": [
       "True     48069\n",
       "False     1369\n",
       "dtype: int64"
      ]
     },
     "execution_count": 14,
     "metadata": {},
     "output_type": "execute_result"
    }
   ],
   "source": [
    "def compare(a,b,s):\n",
    "    org = str(a).lower().split(s)\n",
    "    li = []\n",
    "    for i in org:\n",
    "        if i not in str(b).lower():\n",
    "            li.append(False)\n",
    "        else:\n",
    "            li.append(True)\n",
    "    return all(li)\n",
    "def cmp(x):\n",
    "    if ((compare(x[0],x[1],'-'))or(compare(x[1],x[0],' '))):\n",
    "        return True\n",
    "    else:\n",
    "        return False\n",
    "cb[['Organization','name']].apply(cmp, axis = 1).value_counts()"
   ]
  },
  {
   "cell_type": "markdown",
   "metadata": {},
   "source": [
    "We have 2.7% of our data fighting against deleting one of the attribute from Organization and name.  \n",
    "It's quite low but still there's enough diversity between the False returning strings.  \n",
    "So, let's do both the things i.e. delete name and keep a list of non-similar data points."
   ]
  },
  {
   "cell_type": "code",
   "execution_count": 15,
   "metadata": {},
   "outputs": [],
   "source": [
    "def compare(a,b,s):\n",
    "    org = str(a).lower().split(s)\n",
    "    li = []\n",
    "    for i in org:\n",
    "        if i not in str(b).lower():\n",
    "            li.append(False)\n",
    "        else:\n",
    "            li.append(True)\n",
    "    return all(li)\n",
    "def cmp1(x):\n",
    "    if ((compare(x[0],x[1],'-'))or(compare(x[1],x[0],' '))):\n",
    "        return x[0]\n",
    "    else:\n",
    "        return [x[0],x[1]]\n",
    "cb['Organization'] = cb[['Organization','name']].apply(cmp1, axis = 1)"
   ]
  },
  {
   "cell_type": "markdown",
   "metadata": {},
   "source": [
    "Both the attributes are similar to a certain extent as determined previously.  \n",
    "Which is enough to get rid of one of the attributes but still I'm keeping in a list with the remaining stuff rather than getting rid of a few names.  \n",
    "We're going to delete the name attribute as it has many special characters compared to the well organized Organization attribute. Also, there's a single null value here too."
   ]
  },
  {
   "cell_type": "code",
   "execution_count": 16,
   "metadata": {},
   "outputs": [
    {
     "data": {
      "text/html": [
       "<div>\n",
       "<style scoped>\n",
       "    .dataframe tbody tr th:only-of-type {\n",
       "        vertical-align: middle;\n",
       "    }\n",
       "\n",
       "    .dataframe tbody tr th {\n",
       "        vertical-align: top;\n",
       "    }\n",
       "\n",
       "    .dataframe thead th {\n",
       "        text-align: right;\n",
       "    }\n",
       "</style>\n",
       "<table border=\"1\" class=\"dataframe\">\n",
       "  <thead>\n",
       "    <tr style=\"text-align: right;\">\n",
       "      <th></th>\n",
       "      <th>Organization</th>\n",
       "      <th>homepage_url</th>\n",
       "      <th>category_list</th>\n",
       "      <th>market</th>\n",
       "      <th>funding_total_usd</th>\n",
       "      <th>status</th>\n",
       "      <th>country_code</th>\n",
       "      <th>state_code</th>\n",
       "      <th>region</th>\n",
       "      <th>city</th>\n",
       "      <th>...</th>\n",
       "      <th>secondary_market</th>\n",
       "      <th>product_crowdfunding</th>\n",
       "      <th>round_A</th>\n",
       "      <th>round_B</th>\n",
       "      <th>round_C</th>\n",
       "      <th>round_D</th>\n",
       "      <th>round_E</th>\n",
       "      <th>round_F</th>\n",
       "      <th>round_G</th>\n",
       "      <th>round_H</th>\n",
       "    </tr>\n",
       "  </thead>\n",
       "  <tbody>\n",
       "    <tr>\n",
       "      <th>49433</th>\n",
       "      <td>zzish</td>\n",
       "      <td>http://www.zzish.com</td>\n",
       "      <td>|Analytics|Gamification|Developer APIs|iOS|And...</td>\n",
       "      <td>Education</td>\n",
       "      <td>3,20,000</td>\n",
       "      <td>operating</td>\n",
       "      <td>GBR</td>\n",
       "      <td>NaN</td>\n",
       "      <td>London</td>\n",
       "      <td>London</td>\n",
       "      <td>...</td>\n",
       "      <td>0</td>\n",
       "      <td>0</td>\n",
       "      <td>0</td>\n",
       "      <td>0</td>\n",
       "      <td>0</td>\n",
       "      <td>0</td>\n",
       "      <td>0</td>\n",
       "      <td>0</td>\n",
       "      <td>0</td>\n",
       "      <td>0</td>\n",
       "    </tr>\n",
       "    <tr>\n",
       "      <th>49434</th>\n",
       "      <td>zznode-science-and-technology-co-ltd</td>\n",
       "      <td>http://www.zznode.com</td>\n",
       "      <td>|Enterprise Software|</td>\n",
       "      <td>Enterprise Software</td>\n",
       "      <td>15,87,301</td>\n",
       "      <td>operating</td>\n",
       "      <td>CHN</td>\n",
       "      <td>NaN</td>\n",
       "      <td>Beijing</td>\n",
       "      <td>Beijing</td>\n",
       "      <td>...</td>\n",
       "      <td>0</td>\n",
       "      <td>0</td>\n",
       "      <td>1587301</td>\n",
       "      <td>0</td>\n",
       "      <td>0</td>\n",
       "      <td>0</td>\n",
       "      <td>0</td>\n",
       "      <td>0</td>\n",
       "      <td>0</td>\n",
       "      <td>0</td>\n",
       "    </tr>\n",
       "    <tr>\n",
       "      <th>49435</th>\n",
       "      <td>[zzzzapp-com, Zzzzapp Wireless ltd.]</td>\n",
       "      <td>http://www.zzzzapp.com</td>\n",
       "      <td>|Web Development|Advertising|Wireless|Mobile|</td>\n",
       "      <td>Web Development</td>\n",
       "      <td>97,398</td>\n",
       "      <td>operating</td>\n",
       "      <td>HRV</td>\n",
       "      <td>NaN</td>\n",
       "      <td>Split</td>\n",
       "      <td>Split</td>\n",
       "      <td>...</td>\n",
       "      <td>0</td>\n",
       "      <td>0</td>\n",
       "      <td>0</td>\n",
       "      <td>0</td>\n",
       "      <td>0</td>\n",
       "      <td>0</td>\n",
       "      <td>0</td>\n",
       "      <td>0</td>\n",
       "      <td>0</td>\n",
       "      <td>0</td>\n",
       "    </tr>\n",
       "    <tr>\n",
       "      <th>49436</th>\n",
       "      <td>a-list-games</td>\n",
       "      <td>http://www.alistgames.com</td>\n",
       "      <td>|Games|</td>\n",
       "      <td>Games</td>\n",
       "      <td>93,00,000</td>\n",
       "      <td>operating</td>\n",
       "      <td>NaN</td>\n",
       "      <td>NaN</td>\n",
       "      <td>NaN</td>\n",
       "      <td>NaN</td>\n",
       "      <td>...</td>\n",
       "      <td>0</td>\n",
       "      <td>0</td>\n",
       "      <td>0</td>\n",
       "      <td>0</td>\n",
       "      <td>0</td>\n",
       "      <td>0</td>\n",
       "      <td>0</td>\n",
       "      <td>0</td>\n",
       "      <td>0</td>\n",
       "      <td>0</td>\n",
       "    </tr>\n",
       "    <tr>\n",
       "      <th>49437</th>\n",
       "      <td>x</td>\n",
       "      <td>http://www.xplusone.com/</td>\n",
       "      <td>|Enterprise Software|</td>\n",
       "      <td>Enterprise Software</td>\n",
       "      <td>4,50,00,000</td>\n",
       "      <td>operating</td>\n",
       "      <td>USA</td>\n",
       "      <td>NY</td>\n",
       "      <td>New York City</td>\n",
       "      <td>New York</td>\n",
       "      <td>...</td>\n",
       "      <td>0</td>\n",
       "      <td>0</td>\n",
       "      <td>16000000</td>\n",
       "      <td>10000000</td>\n",
       "      <td>0</td>\n",
       "      <td>0</td>\n",
       "      <td>0</td>\n",
       "      <td>0</td>\n",
       "      <td>0</td>\n",
       "      <td>0</td>\n",
       "    </tr>\n",
       "  </tbody>\n",
       "</table>\n",
       "<p>5 rows × 38 columns</p>\n",
       "</div>"
      ],
      "text/plain": [
       "                               Organization               homepage_url  \\\n",
       "49433                                 zzish       http://www.zzish.com   \n",
       "49434  zznode-science-and-technology-co-ltd      http://www.zznode.com   \n",
       "49435  [zzzzapp-com, Zzzzapp Wireless ltd.]     http://www.zzzzapp.com   \n",
       "49436                          a-list-games  http://www.alistgames.com   \n",
       "49437                                     x   http://www.xplusone.com/   \n",
       "\n",
       "                                           category_list  \\\n",
       "49433  |Analytics|Gamification|Developer APIs|iOS|And...   \n",
       "49434                              |Enterprise Software|   \n",
       "49435      |Web Development|Advertising|Wireless|Mobile|   \n",
       "49436                                            |Games|   \n",
       "49437                              |Enterprise Software|   \n",
       "\n",
       "                     market   funding_total_usd      status country_code  \\\n",
       "49433             Education             3,20,000  operating          GBR   \n",
       "49434   Enterprise Software            15,87,301  operating          CHN   \n",
       "49435       Web Development               97,398  operating          HRV   \n",
       "49436                 Games            93,00,000  operating          NaN   \n",
       "49437   Enterprise Software          4,50,00,000  operating          USA   \n",
       "\n",
       "      state_code         region      city  ...  secondary_market  \\\n",
       "49433        NaN         London    London  ...                 0   \n",
       "49434        NaN        Beijing   Beijing  ...                 0   \n",
       "49435        NaN          Split     Split  ...                 0   \n",
       "49436        NaN            NaN       NaN  ...                 0   \n",
       "49437         NY  New York City  New York  ...                 0   \n",
       "\n",
       "      product_crowdfunding   round_A   round_B round_C round_D round_E  \\\n",
       "49433                    0         0         0       0       0       0   \n",
       "49434                    0   1587301         0       0       0       0   \n",
       "49435                    0         0         0       0       0       0   \n",
       "49436                    0         0         0       0       0       0   \n",
       "49437                    0  16000000  10000000       0       0       0   \n",
       "\n",
       "       round_F  round_G  round_H  \n",
       "49433        0        0        0  \n",
       "49434        0        0        0  \n",
       "49435        0        0        0  \n",
       "49436        0        0        0  \n",
       "49437        0        0        0  \n",
       "\n",
       "[5 rows x 38 columns]"
      ]
     },
     "execution_count": 16,
     "metadata": {},
     "output_type": "execute_result"
    }
   ],
   "source": [
    "del cb['name']\n",
    "cb.tail()"
   ]
  },
  {
   "cell_type": "markdown",
   "metadata": {},
   "source": [
    "Now that that's done, let's look at our next bait - the url.\n",
    "## homepage_url"
   ]
  },
  {
   "cell_type": "code",
   "execution_count": 17,
   "metadata": {},
   "outputs": [
    {
     "data": {
      "text/plain": [
       "3449"
      ]
     },
     "execution_count": 17,
     "metadata": {},
     "output_type": "execute_result"
    }
   ],
   "source": [
    "cb.homepage_url.isna().sum()"
   ]
  },
  {
   "cell_type": "markdown",
   "metadata": {},
   "source": [
    "Even though there's a good amount of null values here, there is no reason to delete this attribute because it's just the url of the homepages of the organizations.  \n",
    "Let's just fill the null values with None."
   ]
  },
  {
   "cell_type": "code",
   "execution_count": 18,
   "metadata": {},
   "outputs": [],
   "source": [
    "cb['homepage_url'] = cb.homepage_url.fillna('None')"
   ]
  },
  {
   "cell_type": "code",
   "execution_count": 19,
   "metadata": {},
   "outputs": [
    {
     "data": {
      "text/plain": [
       "None                           3449\n",
       "http://www.grouply.com            2\n",
       "http://www.ubiquitycorp.com       2\n",
       "Name: homepage_url, dtype: int64"
      ]
     },
     "execution_count": 19,
     "metadata": {},
     "output_type": "execute_result"
    }
   ],
   "source": [
    "cb.homepage_url.value_counts().head(3)"
   ]
  },
  {
   "cell_type": "markdown",
   "metadata": {},
   "source": [
    "So, now that all the null values are filled with string 'None', Let's move on to the next attribute."
   ]
  },
  {
   "cell_type": "code",
   "execution_count": 20,
   "metadata": {},
   "outputs": [
    {
     "data": {
      "text/html": [
       "<div>\n",
       "<style scoped>\n",
       "    .dataframe tbody tr th:only-of-type {\n",
       "        vertical-align: middle;\n",
       "    }\n",
       "\n",
       "    .dataframe tbody tr th {\n",
       "        vertical-align: top;\n",
       "    }\n",
       "\n",
       "    .dataframe thead th {\n",
       "        text-align: right;\n",
       "    }\n",
       "</style>\n",
       "<table border=\"1\" class=\"dataframe\">\n",
       "  <thead>\n",
       "    <tr style=\"text-align: right;\">\n",
       "      <th></th>\n",
       "      <th>Organization</th>\n",
       "      <th>homepage_url</th>\n",
       "      <th>category_list</th>\n",
       "      <th>market</th>\n",
       "      <th>funding_total_usd</th>\n",
       "      <th>status</th>\n",
       "      <th>country_code</th>\n",
       "      <th>state_code</th>\n",
       "      <th>region</th>\n",
       "      <th>city</th>\n",
       "      <th>...</th>\n",
       "      <th>secondary_market</th>\n",
       "      <th>product_crowdfunding</th>\n",
       "      <th>round_A</th>\n",
       "      <th>round_B</th>\n",
       "      <th>round_C</th>\n",
       "      <th>round_D</th>\n",
       "      <th>round_E</th>\n",
       "      <th>round_F</th>\n",
       "      <th>round_G</th>\n",
       "      <th>round_H</th>\n",
       "    </tr>\n",
       "  </thead>\n",
       "  <tbody>\n",
       "    <tr>\n",
       "      <th>49433</th>\n",
       "      <td>zzish</td>\n",
       "      <td>http://www.zzish.com</td>\n",
       "      <td>|Analytics|Gamification|Developer APIs|iOS|And...</td>\n",
       "      <td>Education</td>\n",
       "      <td>3,20,000</td>\n",
       "      <td>operating</td>\n",
       "      <td>GBR</td>\n",
       "      <td>NaN</td>\n",
       "      <td>London</td>\n",
       "      <td>London</td>\n",
       "      <td>...</td>\n",
       "      <td>0</td>\n",
       "      <td>0</td>\n",
       "      <td>0</td>\n",
       "      <td>0</td>\n",
       "      <td>0</td>\n",
       "      <td>0</td>\n",
       "      <td>0</td>\n",
       "      <td>0</td>\n",
       "      <td>0</td>\n",
       "      <td>0</td>\n",
       "    </tr>\n",
       "    <tr>\n",
       "      <th>49434</th>\n",
       "      <td>zznode-science-and-technology-co-ltd</td>\n",
       "      <td>http://www.zznode.com</td>\n",
       "      <td>|Enterprise Software|</td>\n",
       "      <td>Enterprise Software</td>\n",
       "      <td>15,87,301</td>\n",
       "      <td>operating</td>\n",
       "      <td>CHN</td>\n",
       "      <td>NaN</td>\n",
       "      <td>Beijing</td>\n",
       "      <td>Beijing</td>\n",
       "      <td>...</td>\n",
       "      <td>0</td>\n",
       "      <td>0</td>\n",
       "      <td>1587301</td>\n",
       "      <td>0</td>\n",
       "      <td>0</td>\n",
       "      <td>0</td>\n",
       "      <td>0</td>\n",
       "      <td>0</td>\n",
       "      <td>0</td>\n",
       "      <td>0</td>\n",
       "    </tr>\n",
       "    <tr>\n",
       "      <th>49435</th>\n",
       "      <td>[zzzzapp-com, Zzzzapp Wireless ltd.]</td>\n",
       "      <td>http://www.zzzzapp.com</td>\n",
       "      <td>|Web Development|Advertising|Wireless|Mobile|</td>\n",
       "      <td>Web Development</td>\n",
       "      <td>97,398</td>\n",
       "      <td>operating</td>\n",
       "      <td>HRV</td>\n",
       "      <td>NaN</td>\n",
       "      <td>Split</td>\n",
       "      <td>Split</td>\n",
       "      <td>...</td>\n",
       "      <td>0</td>\n",
       "      <td>0</td>\n",
       "      <td>0</td>\n",
       "      <td>0</td>\n",
       "      <td>0</td>\n",
       "      <td>0</td>\n",
       "      <td>0</td>\n",
       "      <td>0</td>\n",
       "      <td>0</td>\n",
       "      <td>0</td>\n",
       "    </tr>\n",
       "    <tr>\n",
       "      <th>49436</th>\n",
       "      <td>a-list-games</td>\n",
       "      <td>http://www.alistgames.com</td>\n",
       "      <td>|Games|</td>\n",
       "      <td>Games</td>\n",
       "      <td>93,00,000</td>\n",
       "      <td>operating</td>\n",
       "      <td>NaN</td>\n",
       "      <td>NaN</td>\n",
       "      <td>NaN</td>\n",
       "      <td>NaN</td>\n",
       "      <td>...</td>\n",
       "      <td>0</td>\n",
       "      <td>0</td>\n",
       "      <td>0</td>\n",
       "      <td>0</td>\n",
       "      <td>0</td>\n",
       "      <td>0</td>\n",
       "      <td>0</td>\n",
       "      <td>0</td>\n",
       "      <td>0</td>\n",
       "      <td>0</td>\n",
       "    </tr>\n",
       "    <tr>\n",
       "      <th>49437</th>\n",
       "      <td>x</td>\n",
       "      <td>http://www.xplusone.com/</td>\n",
       "      <td>|Enterprise Software|</td>\n",
       "      <td>Enterprise Software</td>\n",
       "      <td>4,50,00,000</td>\n",
       "      <td>operating</td>\n",
       "      <td>USA</td>\n",
       "      <td>NY</td>\n",
       "      <td>New York City</td>\n",
       "      <td>New York</td>\n",
       "      <td>...</td>\n",
       "      <td>0</td>\n",
       "      <td>0</td>\n",
       "      <td>16000000</td>\n",
       "      <td>10000000</td>\n",
       "      <td>0</td>\n",
       "      <td>0</td>\n",
       "      <td>0</td>\n",
       "      <td>0</td>\n",
       "      <td>0</td>\n",
       "      <td>0</td>\n",
       "    </tr>\n",
       "  </tbody>\n",
       "</table>\n",
       "<p>5 rows × 38 columns</p>\n",
       "</div>"
      ],
      "text/plain": [
       "                               Organization               homepage_url  \\\n",
       "49433                                 zzish       http://www.zzish.com   \n",
       "49434  zznode-science-and-technology-co-ltd      http://www.zznode.com   \n",
       "49435  [zzzzapp-com, Zzzzapp Wireless ltd.]     http://www.zzzzapp.com   \n",
       "49436                          a-list-games  http://www.alistgames.com   \n",
       "49437                                     x   http://www.xplusone.com/   \n",
       "\n",
       "                                           category_list  \\\n",
       "49433  |Analytics|Gamification|Developer APIs|iOS|And...   \n",
       "49434                              |Enterprise Software|   \n",
       "49435      |Web Development|Advertising|Wireless|Mobile|   \n",
       "49436                                            |Games|   \n",
       "49437                              |Enterprise Software|   \n",
       "\n",
       "                     market   funding_total_usd      status country_code  \\\n",
       "49433             Education             3,20,000  operating          GBR   \n",
       "49434   Enterprise Software            15,87,301  operating          CHN   \n",
       "49435       Web Development               97,398  operating          HRV   \n",
       "49436                 Games            93,00,000  operating          NaN   \n",
       "49437   Enterprise Software          4,50,00,000  operating          USA   \n",
       "\n",
       "      state_code         region      city  ...  secondary_market  \\\n",
       "49433        NaN         London    London  ...                 0   \n",
       "49434        NaN        Beijing   Beijing  ...                 0   \n",
       "49435        NaN          Split     Split  ...                 0   \n",
       "49436        NaN            NaN       NaN  ...                 0   \n",
       "49437         NY  New York City  New York  ...                 0   \n",
       "\n",
       "      product_crowdfunding   round_A   round_B round_C round_D round_E  \\\n",
       "49433                    0         0         0       0       0       0   \n",
       "49434                    0   1587301         0       0       0       0   \n",
       "49435                    0         0         0       0       0       0   \n",
       "49436                    0         0         0       0       0       0   \n",
       "49437                    0  16000000  10000000       0       0       0   \n",
       "\n",
       "       round_F  round_G  round_H  \n",
       "49433        0        0        0  \n",
       "49434        0        0        0  \n",
       "49435        0        0        0  \n",
       "49436        0        0        0  \n",
       "49437        0        0        0  \n",
       "\n",
       "[5 rows x 38 columns]"
      ]
     },
     "execution_count": 20,
     "metadata": {},
     "output_type": "execute_result"
    }
   ],
   "source": [
    "cb.tail()"
   ]
  },
  {
   "cell_type": "markdown",
   "metadata": {},
   "source": [
    "As we can see, our next attribute category_list is the same as market but with few more items in there.  \n",
    "Let's check that up.  \n",
    "## category_list and market"
   ]
  },
  {
   "cell_type": "code",
   "execution_count": 21,
   "metadata": {},
   "outputs": [
    {
     "name": "stdout",
     "output_type": "stream",
     "text": [
      "category_list    3961\n",
      " market          3968\n",
      "dtype: int64\n"
     ]
    },
    {
     "data": {
      "text/plain": [
       "True                45470\n",
       "Both are null        3961\n",
       "Only one is null        7\n",
       "dtype: int64"
      ]
     },
     "execution_count": 21,
     "metadata": {},
     "output_type": "execute_result"
    }
   ],
   "source": [
    "print(cb[['category_list', ' market ']].isna().sum())\n",
    "def cmp2(x):\n",
    "    if x.isna().sum() == 2:\n",
    "        return 'Both are null'\n",
    "    elif x.isna().sum() == 1:\n",
    "        return 'Only one is null'\n",
    "    else:\n",
    "        if str(x[1]).strip() in str(x[0]):\n",
    "            return True\n",
    "        else:\n",
    "            return False\n",
    "\n",
    "cb[['category_list', ' market ']].apply(cmp2, axis = 1).value_counts()"
   ]
  },
  {
   "cell_type": "markdown",
   "metadata": {},
   "source": [
    "There are 3961 null values common to both the attributes leaving which market has extra 7 null values.  \n",
    "Let's fill the common null values as None and the extra 7 ones already have something in category_list which shall remain as is.  \n",
    "True means that the str in market is present in category_list which is returned in all cases excluding the null values  means everything in market is present in category_list."
   ]
  },
  {
   "cell_type": "code",
   "execution_count": 22,
   "metadata": {},
   "outputs": [],
   "source": [
    "def return_list(x):\n",
    "    category_list = str(x[0]).strip('|').split('|')\n",
    "    market = str(x[1]).strip()\n",
    "    if x.isna().sum() == 1:\n",
    "        return category_list\n",
    "    elif x.isna().sum() == 2:\n",
    "        return None\n",
    "    else:\n",
    "        category_list.remove(market)\n",
    "        category_list.insert(0, market)\n",
    "        return category_list\n",
    "cb['category_list'] = cb[['category_list', ' market ']].apply(return_list, axis = 1)"
   ]
  },
  {
   "cell_type": "markdown",
   "metadata": {},
   "source": [
    "So, let's just make it an actual list but with the leading element as the one in market attribute if its present.  \n",
    "In the 7 cases where the market element is absent, we're keeping the element as is after stripping and splitting(in case there are more than 1).  \n",
    "There are 3961 cases where we have both null values which we're filling with None.  \n",
    "Let's have a final check whether the elements in market are perfectly placed at the start of the category_list."
   ]
  },
  {
   "cell_type": "code",
   "execution_count": 23,
   "metadata": {},
   "outputs": [
    {
     "data": {
      "text/plain": [
       "True                45470\n",
       "Both are null        3961\n",
       "Only one is null        7\n",
       "dtype: int64"
      ]
     },
     "execution_count": 23,
     "metadata": {},
     "output_type": "execute_result"
    }
   ],
   "source": [
    "def cmp2(x):\n",
    "    if x.isna().sum() == 2:\n",
    "        return 'Both are null'\n",
    "    elif x.isna().sum() == 1:\n",
    "        return 'Only one is null'\n",
    "    else:\n",
    "        if str(x[1]).strip() == x[0][0]:\n",
    "            return True\n",
    "        else:\n",
    "            return False\n",
    "\n",
    "cb[['category_list', ' market ']].apply(cmp2, axis = 1).value_counts()"
   ]
  },
  {
   "cell_type": "markdown",
   "metadata": {},
   "source": [
    "Now that that's checked, we're good to delete market attribute."
   ]
  },
  {
   "cell_type": "code",
   "execution_count": 24,
   "metadata": {},
   "outputs": [],
   "source": [
    "del cb[' market ']"
   ]
  },
  {
   "cell_type": "code",
   "execution_count": 25,
   "metadata": {},
   "outputs": [
    {
     "data": {
      "text/html": [
       "<div>\n",
       "<style scoped>\n",
       "    .dataframe tbody tr th:only-of-type {\n",
       "        vertical-align: middle;\n",
       "    }\n",
       "\n",
       "    .dataframe tbody tr th {\n",
       "        vertical-align: top;\n",
       "    }\n",
       "\n",
       "    .dataframe thead th {\n",
       "        text-align: right;\n",
       "    }\n",
       "</style>\n",
       "<table border=\"1\" class=\"dataframe\">\n",
       "  <thead>\n",
       "    <tr style=\"text-align: right;\">\n",
       "      <th></th>\n",
       "      <th>Organization</th>\n",
       "      <th>homepage_url</th>\n",
       "      <th>category_list</th>\n",
       "      <th>funding_total_usd</th>\n",
       "      <th>status</th>\n",
       "      <th>country_code</th>\n",
       "      <th>state_code</th>\n",
       "      <th>region</th>\n",
       "      <th>city</th>\n",
       "      <th>funding_rounds</th>\n",
       "      <th>...</th>\n",
       "      <th>secondary_market</th>\n",
       "      <th>product_crowdfunding</th>\n",
       "      <th>round_A</th>\n",
       "      <th>round_B</th>\n",
       "      <th>round_C</th>\n",
       "      <th>round_D</th>\n",
       "      <th>round_E</th>\n",
       "      <th>round_F</th>\n",
       "      <th>round_G</th>\n",
       "      <th>round_H</th>\n",
       "    </tr>\n",
       "  </thead>\n",
       "  <tbody>\n",
       "    <tr>\n",
       "      <th>21212</th>\n",
       "      <td>intivix</td>\n",
       "      <td>http://www.intivix.com</td>\n",
       "      <td>[Networking, Security, Information Services, C...</td>\n",
       "      <td>2,00,000</td>\n",
       "      <td>operating</td>\n",
       "      <td>USA</td>\n",
       "      <td>CA</td>\n",
       "      <td>SF Bay Area</td>\n",
       "      <td>San Francisco</td>\n",
       "      <td>1</td>\n",
       "      <td>...</td>\n",
       "      <td>0</td>\n",
       "      <td>0</td>\n",
       "      <td>0</td>\n",
       "      <td>0</td>\n",
       "      <td>0</td>\n",
       "      <td>0</td>\n",
       "      <td>0</td>\n",
       "      <td>0</td>\n",
       "      <td>0</td>\n",
       "      <td>0</td>\n",
       "    </tr>\n",
       "    <tr>\n",
       "      <th>47278</th>\n",
       "      <td>welcu</td>\n",
       "      <td>http://welcu.com/en</td>\n",
       "      <td>[Social Media]</td>\n",
       "      <td>-</td>\n",
       "      <td>operating</td>\n",
       "      <td>CHL</td>\n",
       "      <td>NaN</td>\n",
       "      <td>Santiago</td>\n",
       "      <td>Santiago</td>\n",
       "      <td>2</td>\n",
       "      <td>...</td>\n",
       "      <td>0</td>\n",
       "      <td>0</td>\n",
       "      <td>0</td>\n",
       "      <td>0</td>\n",
       "      <td>0</td>\n",
       "      <td>0</td>\n",
       "      <td>0</td>\n",
       "      <td>0</td>\n",
       "      <td>0</td>\n",
       "      <td>0</td>\n",
       "    </tr>\n",
       "    <tr>\n",
       "      <th>12931</th>\n",
       "      <td>edgewave-inc</td>\n",
       "      <td>http://www.edgewave.com</td>\n",
       "      <td>[Software]</td>\n",
       "      <td>1,94,45,695</td>\n",
       "      <td>operating</td>\n",
       "      <td>USA</td>\n",
       "      <td>CA</td>\n",
       "      <td>San Diego</td>\n",
       "      <td>San Diego</td>\n",
       "      <td>5</td>\n",
       "      <td>...</td>\n",
       "      <td>0</td>\n",
       "      <td>0</td>\n",
       "      <td>6000000</td>\n",
       "      <td>0</td>\n",
       "      <td>0</td>\n",
       "      <td>0</td>\n",
       "      <td>0</td>\n",
       "      <td>0</td>\n",
       "      <td>0</td>\n",
       "      <td>0</td>\n",
       "    </tr>\n",
       "    <tr>\n",
       "      <th>33968</th>\n",
       "      <td>pts-consulting</td>\n",
       "      <td>http://ptsconsulting.com</td>\n",
       "      <td>[Consulting]</td>\n",
       "      <td>1,31,82,687</td>\n",
       "      <td>operating</td>\n",
       "      <td>GBR</td>\n",
       "      <td>NaN</td>\n",
       "      <td>London</td>\n",
       "      <td>London</td>\n",
       "      <td>1</td>\n",
       "      <td>...</td>\n",
       "      <td>0</td>\n",
       "      <td>0</td>\n",
       "      <td>0</td>\n",
       "      <td>0</td>\n",
       "      <td>0</td>\n",
       "      <td>0</td>\n",
       "      <td>0</td>\n",
       "      <td>0</td>\n",
       "      <td>0</td>\n",
       "      <td>0</td>\n",
       "    </tr>\n",
       "    <tr>\n",
       "      <th>38941</th>\n",
       "      <td>smart-energy</td>\n",
       "      <td>http://smart-energy.com</td>\n",
       "      <td>[Clean Technology]</td>\n",
       "      <td>6,25,100</td>\n",
       "      <td>operating</td>\n",
       "      <td>USA</td>\n",
       "      <td>MN</td>\n",
       "      <td>Minneapolis</td>\n",
       "      <td>Excelsior</td>\n",
       "      <td>2</td>\n",
       "      <td>...</td>\n",
       "      <td>0</td>\n",
       "      <td>0</td>\n",
       "      <td>0</td>\n",
       "      <td>0</td>\n",
       "      <td>0</td>\n",
       "      <td>0</td>\n",
       "      <td>0</td>\n",
       "      <td>0</td>\n",
       "      <td>0</td>\n",
       "      <td>0</td>\n",
       "    </tr>\n",
       "  </tbody>\n",
       "</table>\n",
       "<p>5 rows × 37 columns</p>\n",
       "</div>"
      ],
      "text/plain": [
       "         Organization              homepage_url  \\\n",
       "21212         intivix    http://www.intivix.com   \n",
       "47278           welcu       http://welcu.com/en   \n",
       "12931    edgewave-inc   http://www.edgewave.com   \n",
       "33968  pts-consulting  http://ptsconsulting.com   \n",
       "38941    smart-energy   http://smart-energy.com   \n",
       "\n",
       "                                           category_list  funding_total_usd   \\\n",
       "21212  [Networking, Security, Information Services, C...            2,00,000   \n",
       "47278                                     [Social Media]                -      \n",
       "12931                                         [Software]         1,94,45,695   \n",
       "33968                                       [Consulting]         1,31,82,687   \n",
       "38941                                 [Clean Technology]            6,25,100   \n",
       "\n",
       "          status country_code state_code       region           city  \\\n",
       "21212  operating          USA         CA  SF Bay Area  San Francisco   \n",
       "47278  operating          CHL        NaN     Santiago       Santiago   \n",
       "12931  operating          USA         CA    San Diego      San Diego   \n",
       "33968  operating          GBR        NaN       London         London   \n",
       "38941  operating          USA         MN  Minneapolis      Excelsior   \n",
       "\n",
       "       funding_rounds  ... secondary_market product_crowdfunding  round_A  \\\n",
       "21212               1  ...                0                    0        0   \n",
       "47278               2  ...                0                    0        0   \n",
       "12931               5  ...                0                    0  6000000   \n",
       "33968               1  ...                0                    0        0   \n",
       "38941               2  ...                0                    0        0   \n",
       "\n",
       "      round_B round_C round_D  round_E  round_F  round_G  round_H  \n",
       "21212       0       0       0        0        0        0        0  \n",
       "47278       0       0       0        0        0        0        0  \n",
       "12931       0       0       0        0        0        0        0  \n",
       "33968       0       0       0        0        0        0        0  \n",
       "38941       0       0       0        0        0        0        0  \n",
       "\n",
       "[5 rows x 37 columns]"
      ]
     },
     "execution_count": 25,
     "metadata": {},
     "output_type": "execute_result"
    }
   ],
   "source": [
    "cb.sample(5)"
   ]
  },
  {
   "cell_type": "markdown",
   "metadata": {},
   "source": [
    "Market's successfully deleted.\n",
    "## funding_total_usd"
   ]
  },
  {
   "cell_type": "code",
   "execution_count": 26,
   "metadata": {},
   "outputs": [],
   "source": [
    "def change_int(x):\n",
    "    if x.strip() == '-':\n",
    "        return 0\n",
    "    x = x.replace(',','')\n",
    "    return int(x)\n",
    "cb[' funding_total_usd '] = cb[' funding_total_usd '].apply(change_int)"
   ]
  },
  {
   "cell_type": "code",
   "execution_count": 27,
   "metadata": {},
   "outputs": [
    {
     "data": {
      "text/plain": [
       "dtype('int64')"
      ]
     },
     "execution_count": 27,
     "metadata": {},
     "output_type": "execute_result"
    }
   ],
   "source": [
    "cb[' funding_total_usd '].dtypes"
   ]
  },
  {
   "cell_type": "markdown",
   "metadata": {},
   "source": [
    "Now that we've changed up the attribute to int successfully, let's change its name because its quite sketchy."
   ]
  },
  {
   "cell_type": "code",
   "execution_count": 28,
   "metadata": {},
   "outputs": [],
   "source": [
    "cb = cb.rename(columns = {' funding_total_usd ' : 'Funding($)'})"
   ]
  },
  {
   "cell_type": "markdown",
   "metadata": {},
   "source": [
    "Now that we've renamed that, we can move on to our next attribute.\n",
    "## status"
   ]
  },
  {
   "cell_type": "code",
   "execution_count": 29,
   "metadata": {},
   "outputs": [
    {
     "data": {
      "text/plain": [
       "operating    41829\n",
       "acquired      3692\n",
       "closed        2603\n",
       "Name: status, dtype: int64"
      ]
     },
     "execution_count": 29,
     "metadata": {},
     "output_type": "execute_result"
    }
   ],
   "source": [
    "cb['status'].value_counts()"
   ]
  },
  {
   "cell_type": "markdown",
   "metadata": {},
   "source": [
    "This clearly looks like an attribute of the dtype : 'category'."
   ]
  },
  {
   "cell_type": "code",
   "execution_count": 30,
   "metadata": {},
   "outputs": [
    {
     "data": {
      "text/plain": [
       "CategoricalDtype(categories=['acquired', 'closed', 'operating'], ordered=False)"
      ]
     },
     "execution_count": 30,
     "metadata": {},
     "output_type": "execute_result"
    }
   ],
   "source": [
    "cb['status'] = cb['status'].astype('category')\n",
    "cb['status'].dtypes"
   ]
  },
  {
   "cell_type": "markdown",
   "metadata": {},
   "source": [
    "That looks awesome as our categories are listed too.\n",
    "# Location\n",
    "The coming up 4 attributes are all related to the location of our organization.  \n",
    "Let's put them in as one after resolving each of them linearly.\n",
    "## country_code"
   ]
  },
  {
   "cell_type": "code",
   "execution_count": 31,
   "metadata": {},
   "outputs": [
    {
     "data": {
      "text/plain": [
       "5273"
      ]
     },
     "execution_count": 31,
     "metadata": {},
     "output_type": "execute_result"
    }
   ],
   "source": [
    "cb['country_code'].isna().sum()"
   ]
  },
  {
   "cell_type": "markdown",
   "metadata": {},
   "source": [
    "That's a pretty good amount of null values there. Still there's no reason to delete the str attribute.  \n",
    "So, let's just fill it with None."
   ]
  },
  {
   "cell_type": "code",
   "execution_count": 32,
   "metadata": {},
   "outputs": [
    {
     "data": {
      "text/plain": [
       "USA     28793\n",
       "None     5273\n",
       "GBR      2642\n",
       "CAN      1405\n",
       "CHN      1239\n",
       "Name: country_code, dtype: int64"
      ]
     },
     "execution_count": 32,
     "metadata": {},
     "output_type": "execute_result"
    }
   ],
   "source": [
    "cb['country_code'] = cb.country_code.fillna(value = 'None')\n",
    "cb['country_code'].value_counts().head()"
   ]
  },
  {
   "cell_type": "markdown",
   "metadata": {},
   "source": [
    "Country code is just an uppercase and probably three lettered word."
   ]
  },
  {
   "cell_type": "code",
   "execution_count": 33,
   "metadata": {},
   "outputs": [
    {
     "data": {
      "text/plain": [
       "3    44165\n",
       "4     5273\n",
       "Name: country_code, dtype: int64"
      ]
     },
     "execution_count": 33,
     "metadata": {},
     "output_type": "execute_result"
    }
   ],
   "source": [
    "cb['country_code'].apply(len).value_counts()"
   ]
  },
  {
   "cell_type": "markdown",
   "metadata": {},
   "source": [
    "It is three lettered.  \n",
    "## state_code"
   ]
  },
  {
   "cell_type": "code",
   "execution_count": 34,
   "metadata": {},
   "outputs": [
    {
     "data": {
      "text/plain": [
       "19277"
      ]
     },
     "execution_count": 34,
     "metadata": {},
     "output_type": "execute_result"
    }
   ],
   "source": [
    "cb['state_code'].isna().sum()"
   ]
  },
  {
   "cell_type": "markdown",
   "metadata": {},
   "source": [
    "That's too much more than the country_code. But as we're going to integrate all 4 attributes to 1, it stays.  \n",
    "Let's do all that we did to country_code to state_code as well."
   ]
  },
  {
   "cell_type": "code",
   "execution_count": 35,
   "metadata": {},
   "outputs": [
    {
     "data": {
      "text/plain": [
       "None    19277\n",
       "CA       9917\n",
       "NY       2914\n",
       "MA       1969\n",
       "TX       1466\n",
       "Name: state_code, dtype: int64"
      ]
     },
     "execution_count": 35,
     "metadata": {},
     "output_type": "execute_result"
    }
   ],
   "source": [
    "cb['state_code'] = cb.state_code.fillna(value = 'None')\n",
    "cb['state_code'].value_counts().head()"
   ]
  },
  {
   "cell_type": "markdown",
   "metadata": {},
   "source": [
    "That's similar too."
   ]
  },
  {
   "cell_type": "code",
   "execution_count": 36,
   "metadata": {},
   "outputs": [
    {
     "data": {
      "text/plain": [
       "2    30161\n",
       "4    19277\n",
       "Name: state_code, dtype: int64"
      ]
     },
     "execution_count": 36,
     "metadata": {},
     "output_type": "execute_result"
    }
   ],
   "source": [
    "cb['state_code'].apply(len).value_counts()"
   ]
  },
  {
   "cell_type": "markdown",
   "metadata": {},
   "source": [
    "All these are 2 lettered words though.\n",
    "## region"
   ]
  },
  {
   "cell_type": "code",
   "execution_count": 37,
   "metadata": {},
   "outputs": [
    {
     "data": {
      "text/plain": [
       "5273"
      ]
     },
     "execution_count": 37,
     "metadata": {},
     "output_type": "execute_result"
    }
   ],
   "source": [
    "cb['region'].isna().sum()"
   ]
  },
  {
   "cell_type": "markdown",
   "metadata": {},
   "source": [
    "That's exactly same as the country_code.  \n",
    "Which means both the attributes are similar."
   ]
  },
  {
   "cell_type": "code",
   "execution_count": 38,
   "metadata": {},
   "outputs": [
    {
     "data": {
      "text/plain": [
       "SF Bay Area      6804\n",
       "None             5273\n",
       "New York City    2577\n",
       "Boston           1837\n",
       "London           1588\n",
       "Name: region, dtype: int64"
      ]
     },
     "execution_count": 38,
     "metadata": {},
     "output_type": "execute_result"
    }
   ],
   "source": [
    "cb['region'] = cb.region.fillna(value = 'None')\n",
    "cb['region'].value_counts().head()"
   ]
  },
  {
   "cell_type": "markdown",
   "metadata": {},
   "source": [
    "Lengths obviously vary, so lets skip the last part here.  \n",
    "Again we just find a proper str.\n",
    "## city"
   ]
  },
  {
   "cell_type": "code",
   "execution_count": 39,
   "metadata": {},
   "outputs": [
    {
     "data": {
      "text/plain": [
       "6116"
      ]
     },
     "execution_count": 39,
     "metadata": {},
     "output_type": "execute_result"
    }
   ],
   "source": [
    "cb['city'].isna().sum()"
   ]
  },
  {
   "cell_type": "markdown",
   "metadata": {},
   "source": [
    "There's no similarity with anything else here."
   ]
  },
  {
   "cell_type": "code",
   "execution_count": 40,
   "metadata": {},
   "outputs": [
    {
     "data": {
      "text/plain": [
       "None             6116\n",
       "San Francisco    2615\n",
       "New York         2334\n",
       "London           1257\n",
       "Palo Alto         597\n",
       "Name: city, dtype: int64"
      ]
     },
     "execution_count": 40,
     "metadata": {},
     "output_type": "execute_result"
    }
   ],
   "source": [
    "cb['city'] = cb.city.fillna(value = 'None')\n",
    "cb['city'].value_counts().head()"
   ]
  },
  {
   "cell_type": "markdown",
   "metadata": {},
   "source": [
    "Again lengths vary, so we skip the last part and move on to integrate the 4 attributes.\n",
    "## Location"
   ]
  },
  {
   "cell_type": "code",
   "execution_count": 41,
   "metadata": {},
   "outputs": [],
   "source": [
    "def location(x):\n",
    "    return x.tolist()\n",
    "Location = cb[['country_code','state_code','region','city']].apply(location, axis = 1)"
   ]
  },
  {
   "cell_type": "code",
   "execution_count": 42,
   "metadata": {},
   "outputs": [
    {
     "data": {
      "text/plain": [
       "27154    [USA, CA, SF Bay Area, San Francisco]\n",
       "5606        [USA, NY, New York City, New York]\n",
       "38982        [IND, None, Bangalore, Bangalore]\n",
       "38925       [USA, NY, New York City, New York]\n",
       "Name: Location, dtype: object"
      ]
     },
     "execution_count": 42,
     "metadata": {},
     "output_type": "execute_result"
    }
   ],
   "source": [
    "cb.insert(5,'Location',Location)\n",
    "cb['Location'].sample(4)"
   ]
  },
  {
   "cell_type": "markdown",
   "metadata": {},
   "source": [
    "Now that we've got our new attribute, we can get rid of the four parent attributes."
   ]
  },
  {
   "cell_type": "code",
   "execution_count": 43,
   "metadata": {},
   "outputs": [],
   "source": [
    "cb = cb.drop(['country_code','state_code','region','city'], axis = 1)"
   ]
  },
  {
   "cell_type": "code",
   "execution_count": 44,
   "metadata": {},
   "outputs": [
    {
     "data": {
      "text/html": [
       "<div>\n",
       "<style scoped>\n",
       "    .dataframe tbody tr th:only-of-type {\n",
       "        vertical-align: middle;\n",
       "    }\n",
       "\n",
       "    .dataframe tbody tr th {\n",
       "        vertical-align: top;\n",
       "    }\n",
       "\n",
       "    .dataframe thead th {\n",
       "        text-align: right;\n",
       "    }\n",
       "</style>\n",
       "<table border=\"1\" class=\"dataframe\">\n",
       "  <thead>\n",
       "    <tr style=\"text-align: right;\">\n",
       "      <th></th>\n",
       "      <th>Organization</th>\n",
       "      <th>homepage_url</th>\n",
       "      <th>category_list</th>\n",
       "      <th>Funding($)</th>\n",
       "      <th>status</th>\n",
       "      <th>Location</th>\n",
       "      <th>funding_rounds</th>\n",
       "      <th>founded_at</th>\n",
       "      <th>founded_month</th>\n",
       "      <th>founded_quarter</th>\n",
       "      <th>...</th>\n",
       "      <th>secondary_market</th>\n",
       "      <th>product_crowdfunding</th>\n",
       "      <th>round_A</th>\n",
       "      <th>round_B</th>\n",
       "      <th>round_C</th>\n",
       "      <th>round_D</th>\n",
       "      <th>round_E</th>\n",
       "      <th>round_F</th>\n",
       "      <th>round_G</th>\n",
       "      <th>round_H</th>\n",
       "    </tr>\n",
       "  </thead>\n",
       "  <tbody>\n",
       "    <tr>\n",
       "      <th>49433</th>\n",
       "      <td>zzish</td>\n",
       "      <td>http://www.zzish.com</td>\n",
       "      <td>[Education, Analytics, Gamification, Developer...</td>\n",
       "      <td>320000</td>\n",
       "      <td>operating</td>\n",
       "      <td>[GBR, None, London, London]</td>\n",
       "      <td>1</td>\n",
       "      <td>28-01-2013</td>\n",
       "      <td>2013-01</td>\n",
       "      <td>2013-Q1</td>\n",
       "      <td>...</td>\n",
       "      <td>0</td>\n",
       "      <td>0</td>\n",
       "      <td>0</td>\n",
       "      <td>0</td>\n",
       "      <td>0</td>\n",
       "      <td>0</td>\n",
       "      <td>0</td>\n",
       "      <td>0</td>\n",
       "      <td>0</td>\n",
       "      <td>0</td>\n",
       "    </tr>\n",
       "    <tr>\n",
       "      <th>49434</th>\n",
       "      <td>zznode-science-and-technology-co-ltd</td>\n",
       "      <td>http://www.zznode.com</td>\n",
       "      <td>[Enterprise Software]</td>\n",
       "      <td>1587301</td>\n",
       "      <td>operating</td>\n",
       "      <td>[CHN, None, Beijing, Beijing]</td>\n",
       "      <td>1</td>\n",
       "      <td>NaN</td>\n",
       "      <td>NaN</td>\n",
       "      <td>NaN</td>\n",
       "      <td>...</td>\n",
       "      <td>0</td>\n",
       "      <td>0</td>\n",
       "      <td>1587301</td>\n",
       "      <td>0</td>\n",
       "      <td>0</td>\n",
       "      <td>0</td>\n",
       "      <td>0</td>\n",
       "      <td>0</td>\n",
       "      <td>0</td>\n",
       "      <td>0</td>\n",
       "    </tr>\n",
       "    <tr>\n",
       "      <th>49435</th>\n",
       "      <td>[zzzzapp-com, Zzzzapp Wireless ltd.]</td>\n",
       "      <td>http://www.zzzzapp.com</td>\n",
       "      <td>[Web Development, Advertising, Wireless, Mobile]</td>\n",
       "      <td>97398</td>\n",
       "      <td>operating</td>\n",
       "      <td>[HRV, None, Split, Split]</td>\n",
       "      <td>5</td>\n",
       "      <td>13-05-2012</td>\n",
       "      <td>2012-05</td>\n",
       "      <td>2012-Q2</td>\n",
       "      <td>...</td>\n",
       "      <td>0</td>\n",
       "      <td>0</td>\n",
       "      <td>0</td>\n",
       "      <td>0</td>\n",
       "      <td>0</td>\n",
       "      <td>0</td>\n",
       "      <td>0</td>\n",
       "      <td>0</td>\n",
       "      <td>0</td>\n",
       "      <td>0</td>\n",
       "    </tr>\n",
       "    <tr>\n",
       "      <th>49436</th>\n",
       "      <td>a-list-games</td>\n",
       "      <td>http://www.alistgames.com</td>\n",
       "      <td>[Games]</td>\n",
       "      <td>9300000</td>\n",
       "      <td>operating</td>\n",
       "      <td>[None, None, None, None]</td>\n",
       "      <td>1</td>\n",
       "      <td>NaN</td>\n",
       "      <td>NaN</td>\n",
       "      <td>NaN</td>\n",
       "      <td>...</td>\n",
       "      <td>0</td>\n",
       "      <td>0</td>\n",
       "      <td>0</td>\n",
       "      <td>0</td>\n",
       "      <td>0</td>\n",
       "      <td>0</td>\n",
       "      <td>0</td>\n",
       "      <td>0</td>\n",
       "      <td>0</td>\n",
       "      <td>0</td>\n",
       "    </tr>\n",
       "    <tr>\n",
       "      <th>49437</th>\n",
       "      <td>x</td>\n",
       "      <td>http://www.xplusone.com/</td>\n",
       "      <td>[Enterprise Software]</td>\n",
       "      <td>45000000</td>\n",
       "      <td>operating</td>\n",
       "      <td>[USA, NY, New York City, New York]</td>\n",
       "      <td>4</td>\n",
       "      <td>01-01-1999</td>\n",
       "      <td>1999-01</td>\n",
       "      <td>1999-Q1</td>\n",
       "      <td>...</td>\n",
       "      <td>0</td>\n",
       "      <td>0</td>\n",
       "      <td>16000000</td>\n",
       "      <td>10000000</td>\n",
       "      <td>0</td>\n",
       "      <td>0</td>\n",
       "      <td>0</td>\n",
       "      <td>0</td>\n",
       "      <td>0</td>\n",
       "      <td>0</td>\n",
       "    </tr>\n",
       "  </tbody>\n",
       "</table>\n",
       "<p>5 rows × 34 columns</p>\n",
       "</div>"
      ],
      "text/plain": [
       "                               Organization               homepage_url  \\\n",
       "49433                                 zzish       http://www.zzish.com   \n",
       "49434  zznode-science-and-technology-co-ltd      http://www.zznode.com   \n",
       "49435  [zzzzapp-com, Zzzzapp Wireless ltd.]     http://www.zzzzapp.com   \n",
       "49436                          a-list-games  http://www.alistgames.com   \n",
       "49437                                     x   http://www.xplusone.com/   \n",
       "\n",
       "                                           category_list  Funding($)  \\\n",
       "49433  [Education, Analytics, Gamification, Developer...      320000   \n",
       "49434                              [Enterprise Software]     1587301   \n",
       "49435   [Web Development, Advertising, Wireless, Mobile]       97398   \n",
       "49436                                            [Games]     9300000   \n",
       "49437                              [Enterprise Software]    45000000   \n",
       "\n",
       "          status                            Location  funding_rounds  \\\n",
       "49433  operating         [GBR, None, London, London]               1   \n",
       "49434  operating       [CHN, None, Beijing, Beijing]               1   \n",
       "49435  operating           [HRV, None, Split, Split]               5   \n",
       "49436  operating            [None, None, None, None]               1   \n",
       "49437  operating  [USA, NY, New York City, New York]               4   \n",
       "\n",
       "       founded_at founded_month founded_quarter  ... secondary_market  \\\n",
       "49433  28-01-2013       2013-01         2013-Q1  ...                0   \n",
       "49434         NaN           NaN             NaN  ...                0   \n",
       "49435  13-05-2012       2012-05         2012-Q2  ...                0   \n",
       "49436         NaN           NaN             NaN  ...                0   \n",
       "49437  01-01-1999       1999-01         1999-Q1  ...                0   \n",
       "\n",
       "      product_crowdfunding   round_A   round_B  round_C  round_D  round_E  \\\n",
       "49433                    0         0         0        0        0        0   \n",
       "49434                    0   1587301         0        0        0        0   \n",
       "49435                    0         0         0        0        0        0   \n",
       "49436                    0         0         0        0        0        0   \n",
       "49437                    0  16000000  10000000        0        0        0   \n",
       "\n",
       "       round_F  round_G  round_H  \n",
       "49433        0        0        0  \n",
       "49434        0        0        0  \n",
       "49435        0        0        0  \n",
       "49436        0        0        0  \n",
       "49437        0        0        0  \n",
       "\n",
       "[5 rows x 34 columns]"
      ]
     },
     "execution_count": 44,
     "metadata": {},
     "output_type": "execute_result"
    }
   ],
   "source": [
    "cb.tail()"
   ]
  },
  {
   "cell_type": "markdown",
   "metadata": {},
   "source": [
    "## funding_rounds\n",
    "Google says that Startup funding rounds are a series of investments that raise capital for a new business. As a startup expands and becomes successful, each funding round serves as a stepping stone toward greater growth.  \n",
    "Which makes sense to convert the attribute to categorical again.  \n",
    "Let's have a check whether its credible enough."
   ]
  },
  {
   "cell_type": "code",
   "execution_count": 45,
   "metadata": {},
   "outputs": [
    {
     "data": {
      "text/plain": [
       "1     32039\n",
       "2      9219\n",
       "3      4026\n",
       "4      1997\n",
       "5      1001\n",
       "6       560\n",
       "7       252\n",
       "8       152\n",
       "9        84\n",
       "10       43\n",
       "11       35\n",
       "12       12\n",
       "13        8\n",
       "14        4\n",
       "15        4\n",
       "16        1\n",
       "18        1\n",
       "Name: funding_rounds, dtype: int64"
      ]
     },
     "execution_count": 45,
     "metadata": {},
     "output_type": "execute_result"
    }
   ],
   "source": [
    "cb['funding_rounds'].value_counts(dropna = False)"
   ]
  },
  {
   "cell_type": "markdown",
   "metadata": {},
   "source": [
    "Looks like we don't have null values which makes sense because if it did then it wouldn't make sense to have that data point at the first place.  \n",
    "Also, we have 17 categories which is credible enough to convert this attribute to categorical datatype."
   ]
  },
  {
   "cell_type": "code",
   "execution_count": 46,
   "metadata": {},
   "outputs": [
    {
     "data": {
      "text/plain": [
       "CategoricalDtype(categories=[1, 2, 3, 4, 5, 6, 7, 8, 9, 10, 11, 12, 13, 14, 15, 16, 18], ordered=False)"
      ]
     },
     "execution_count": 46,
     "metadata": {},
     "output_type": "execute_result"
    }
   ],
   "source": [
    "cb['funding_rounds'] = cb['funding_rounds'].astype('category')\n",
    "cb['funding_rounds'].dtypes"
   ]
  },
  {
   "cell_type": "markdown",
   "metadata": {},
   "source": [
    "Looks good.\n",
    "## founded"
   ]
  },
  {
   "cell_type": "code",
   "execution_count": 47,
   "metadata": {},
   "outputs": [
    {
     "data": {
      "text/html": [
       "<div>\n",
       "<style scoped>\n",
       "    .dataframe tbody tr th:only-of-type {\n",
       "        vertical-align: middle;\n",
       "    }\n",
       "\n",
       "    .dataframe tbody tr th {\n",
       "        vertical-align: top;\n",
       "    }\n",
       "\n",
       "    .dataframe thead th {\n",
       "        text-align: right;\n",
       "    }\n",
       "</style>\n",
       "<table border=\"1\" class=\"dataframe\">\n",
       "  <thead>\n",
       "    <tr style=\"text-align: right;\">\n",
       "      <th></th>\n",
       "      <th>funding_rounds</th>\n",
       "      <th>founded_at</th>\n",
       "      <th>founded_month</th>\n",
       "      <th>founded_quarter</th>\n",
       "      <th>founded_year</th>\n",
       "      <th>first_funding_at</th>\n",
       "      <th>last_funding_at</th>\n",
       "      <th>seed</th>\n",
       "      <th>venture</th>\n",
       "      <th>equity_crowdfunding</th>\n",
       "      <th>...</th>\n",
       "      <th>secondary_market</th>\n",
       "      <th>product_crowdfunding</th>\n",
       "      <th>round_A</th>\n",
       "      <th>round_B</th>\n",
       "      <th>round_C</th>\n",
       "      <th>round_D</th>\n",
       "      <th>round_E</th>\n",
       "      <th>round_F</th>\n",
       "      <th>round_G</th>\n",
       "      <th>round_H</th>\n",
       "    </tr>\n",
       "  </thead>\n",
       "  <tbody>\n",
       "    <tr>\n",
       "      <th>0</th>\n",
       "      <td>1</td>\n",
       "      <td>01-06-2012</td>\n",
       "      <td>2012-06</td>\n",
       "      <td>2012-Q2</td>\n",
       "      <td>2012.0</td>\n",
       "      <td>30-06-2012</td>\n",
       "      <td>30-06-2012</td>\n",
       "      <td>1750000</td>\n",
       "      <td>0</td>\n",
       "      <td>0</td>\n",
       "      <td>...</td>\n",
       "      <td>0</td>\n",
       "      <td>0</td>\n",
       "      <td>0</td>\n",
       "      <td>0</td>\n",
       "      <td>0</td>\n",
       "      <td>0</td>\n",
       "      <td>0</td>\n",
       "      <td>0</td>\n",
       "      <td>0</td>\n",
       "      <td>0</td>\n",
       "    </tr>\n",
       "    <tr>\n",
       "      <th>1</th>\n",
       "      <td>2</td>\n",
       "      <td>NaN</td>\n",
       "      <td>NaN</td>\n",
       "      <td>NaN</td>\n",
       "      <td>NaN</td>\n",
       "      <td>04-06-2010</td>\n",
       "      <td>23-09-2010</td>\n",
       "      <td>0</td>\n",
       "      <td>4000000</td>\n",
       "      <td>0</td>\n",
       "      <td>...</td>\n",
       "      <td>0</td>\n",
       "      <td>0</td>\n",
       "      <td>0</td>\n",
       "      <td>0</td>\n",
       "      <td>0</td>\n",
       "      <td>0</td>\n",
       "      <td>0</td>\n",
       "      <td>0</td>\n",
       "      <td>0</td>\n",
       "      <td>0</td>\n",
       "    </tr>\n",
       "    <tr>\n",
       "      <th>2</th>\n",
       "      <td>1</td>\n",
       "      <td>26-10-2012</td>\n",
       "      <td>2012-10</td>\n",
       "      <td>2012-Q4</td>\n",
       "      <td>2012.0</td>\n",
       "      <td>09-08-2012</td>\n",
       "      <td>09-08-2012</td>\n",
       "      <td>40000</td>\n",
       "      <td>0</td>\n",
       "      <td>0</td>\n",
       "      <td>...</td>\n",
       "      <td>0</td>\n",
       "      <td>0</td>\n",
       "      <td>0</td>\n",
       "      <td>0</td>\n",
       "      <td>0</td>\n",
       "      <td>0</td>\n",
       "      <td>0</td>\n",
       "      <td>0</td>\n",
       "      <td>0</td>\n",
       "      <td>0</td>\n",
       "    </tr>\n",
       "    <tr>\n",
       "      <th>3</th>\n",
       "      <td>1</td>\n",
       "      <td>01-04-2011</td>\n",
       "      <td>2011-04</td>\n",
       "      <td>2011-Q2</td>\n",
       "      <td>2011.0</td>\n",
       "      <td>01-04-2011</td>\n",
       "      <td>01-04-2011</td>\n",
       "      <td>1500000</td>\n",
       "      <td>0</td>\n",
       "      <td>0</td>\n",
       "      <td>...</td>\n",
       "      <td>0</td>\n",
       "      <td>0</td>\n",
       "      <td>0</td>\n",
       "      <td>0</td>\n",
       "      <td>0</td>\n",
       "      <td>0</td>\n",
       "      <td>0</td>\n",
       "      <td>0</td>\n",
       "      <td>0</td>\n",
       "      <td>0</td>\n",
       "    </tr>\n",
       "    <tr>\n",
       "      <th>4</th>\n",
       "      <td>2</td>\n",
       "      <td>01-01-2014</td>\n",
       "      <td>2014-01</td>\n",
       "      <td>2014-Q1</td>\n",
       "      <td>2014.0</td>\n",
       "      <td>17-08-2014</td>\n",
       "      <td>26-09-2014</td>\n",
       "      <td>0</td>\n",
       "      <td>0</td>\n",
       "      <td>60000</td>\n",
       "      <td>...</td>\n",
       "      <td>0</td>\n",
       "      <td>0</td>\n",
       "      <td>0</td>\n",
       "      <td>0</td>\n",
       "      <td>0</td>\n",
       "      <td>0</td>\n",
       "      <td>0</td>\n",
       "      <td>0</td>\n",
       "      <td>0</td>\n",
       "      <td>0</td>\n",
       "    </tr>\n",
       "  </tbody>\n",
       "</table>\n",
       "<p>5 rows × 28 columns</p>\n",
       "</div>"
      ],
      "text/plain": [
       "  funding_rounds  founded_at founded_month founded_quarter founded_year  \\\n",
       "0              1  01-06-2012       2012-06         2012-Q2       2012.0   \n",
       "1              2         NaN           NaN             NaN          NaN   \n",
       "2              1  26-10-2012       2012-10         2012-Q4       2012.0   \n",
       "3              1  01-04-2011       2011-04         2011-Q2       2011.0   \n",
       "4              2  01-01-2014       2014-01         2014-Q1       2014.0   \n",
       "\n",
       "  first_funding_at last_funding_at     seed  venture  equity_crowdfunding  \\\n",
       "0       30-06-2012      30-06-2012  1750000        0                    0   \n",
       "1       04-06-2010      23-09-2010        0  4000000                    0   \n",
       "2       09-08-2012      09-08-2012    40000        0                    0   \n",
       "3       01-04-2011      01-04-2011  1500000        0                    0   \n",
       "4       17-08-2014      26-09-2014        0        0                60000   \n",
       "\n",
       "   ...  secondary_market  product_crowdfunding  round_A  round_B  round_C  \\\n",
       "0  ...                 0                     0        0        0        0   \n",
       "1  ...                 0                     0        0        0        0   \n",
       "2  ...                 0                     0        0        0        0   \n",
       "3  ...                 0                     0        0        0        0   \n",
       "4  ...                 0                     0        0        0        0   \n",
       "\n",
       "   round_D  round_E  round_F  round_G  round_H  \n",
       "0        0        0        0        0        0  \n",
       "1        0        0        0        0        0  \n",
       "2        0        0        0        0        0  \n",
       "3        0        0        0        0        0  \n",
       "4        0        0        0        0        0  \n",
       "\n",
       "[5 rows x 28 columns]"
      ]
     },
     "execution_count": 47,
     "metadata": {},
     "output_type": "execute_result"
    }
   ],
   "source": [
    "cb[cb.columns[6:]].head()"
   ]
  },
  {
   "cell_type": "markdown",
   "metadata": {},
   "source": [
    "All three founded attributes look like they're derived from founded_at."
   ]
  },
  {
   "cell_type": "code",
   "execution_count": 48,
   "metadata": {},
   "outputs": [
    {
     "data": {
      "text/plain": [
       "founded_at         10884\n",
       "founded_month      10956\n",
       "founded_quarter    10956\n",
       "founded_year       10956\n",
       "dtype: int64"
      ]
     },
     "execution_count": 48,
     "metadata": {},
     "output_type": "execute_result"
    }
   ],
   "source": [
    "cb[cb.columns[7:11]].isna().sum()"
   ]
  },
  {
   "cell_type": "markdown",
   "metadata": {},
   "source": [
    "Null values also support the cause of removing the extra three founded attributes.  \n",
    "Let's keep founded_quarter because it could help in certain aspects during analysis."
   ]
  },
  {
   "cell_type": "code",
   "execution_count": 49,
   "metadata": {},
   "outputs": [],
   "source": [
    "cb = cb.drop(['founded_month', 'founded_year'], axis = 1)"
   ]
  },
  {
   "cell_type": "markdown",
   "metadata": {},
   "source": [
    "Now that we've removed the unwanted attributes, let's fine tune the remaining founded attributes.\n",
    "## founded_at"
   ]
  },
  {
   "cell_type": "code",
   "execution_count": 50,
   "metadata": {},
   "outputs": [],
   "source": [
    "from datetime import datetime"
   ]
  },
  {
   "cell_type": "code",
   "execution_count": 51,
   "metadata": {},
   "outputs": [],
   "source": [
    "def date_check(y):\n",
    "    li = y.split('-')\n",
    "    if len(li[0]) == 4:\n",
    "        Y = li[0]\n",
    "        li[0] = li[2]\n",
    "        li[2] = Y\n",
    "    return li[0] +'-'+ li[1] +'-'+ li[2]\n",
    "def change_date(x):\n",
    "    if str(x).lower() == 'nan':\n",
    "        return None\n",
    "    else:\n",
    "        x = date_check(x)\n",
    "        return datetime.strptime(x,'%d-%m-%Y').date()\n",
    "cb['founded_at'] = cb['founded_at'].apply(change_date)"
   ]
  },
  {
   "cell_type": "code",
   "execution_count": 52,
   "metadata": {},
   "outputs": [
    {
     "data": {
      "text/plain": [
       "datetime.date"
      ]
     },
     "execution_count": 52,
     "metadata": {},
     "output_type": "execute_result"
    }
   ],
   "source": [
    "type(cb['founded_at'][0])"
   ]
  },
  {
   "cell_type": "markdown",
   "metadata": {},
   "source": [
    "Now that we've got that converted, let's look for anything in founded_quarter.\n",
    "## founded_quarter"
   ]
  },
  {
   "cell_type": "code",
   "execution_count": 53,
   "metadata": {},
   "outputs": [
    {
     "data": {
      "text/plain": [
       "42728    2011-Q1\n",
       "36405    2009-Q4\n",
       "2845     2002-Q1\n",
       "44376    2013-Q4\n",
       "Name: founded_quarter, dtype: object"
      ]
     },
     "execution_count": 53,
     "metadata": {},
     "output_type": "execute_result"
    }
   ],
   "source": [
    "cb['founded_quarter'].sample(4)"
   ]
  },
  {
   "cell_type": "markdown",
   "metadata": {},
   "source": [
    "All these values are just the year followed by quarter.  \n",
    "quarter is just the 12 months divided into 4 quarters.  \n",
    "It can stay as is.\n",
    "## first and last funding"
   ]
  },
  {
   "cell_type": "code",
   "execution_count": 54,
   "metadata": {},
   "outputs": [],
   "source": [
    "cb['first_funding_at'] = cb['first_funding_at'].apply(change_date)\n",
    "cb['last_funding_at'] = cb['last_funding_at'].apply(change_date)"
   ]
  },
  {
   "cell_type": "markdown",
   "metadata": {},
   "source": [
    "We're applying the same function written for founded_at for first and last funding as both are dates.  \n",
    "And also we're not compressing these as they're needed in detail for analysis."
   ]
  },
  {
   "cell_type": "code",
   "execution_count": 55,
   "metadata": {},
   "outputs": [
    {
     "data": {
      "text/plain": [
       "Organization              object\n",
       "homepage_url              object\n",
       "category_list             object\n",
       "Funding($)                 int64\n",
       "status                  category\n",
       "Location                  object\n",
       "funding_rounds          category\n",
       "founded_at                object\n",
       "founded_quarter           object\n",
       "first_funding_at          object\n",
       "last_funding_at           object\n",
       "seed                       int64\n",
       "venture                    int64\n",
       "equity_crowdfunding        int64\n",
       "undisclosed                int64\n",
       "convertible_note           int64\n",
       "debt_financing             int64\n",
       "angel                      int64\n",
       "grant                      int64\n",
       "private_equity             int64\n",
       "post_ipo_equity            int64\n",
       "post_ipo_debt              int64\n",
       "secondary_market           int64\n",
       "product_crowdfunding       int64\n",
       "round_A                    int64\n",
       "round_B                    int64\n",
       "round_C                    int64\n",
       "round_D                    int64\n",
       "round_E                    int64\n",
       "round_F                    int64\n",
       "round_G                    int64\n",
       "round_H                    int64\n",
       "dtype: object"
      ]
     },
     "execution_count": 55,
     "metadata": {},
     "output_type": "execute_result"
    }
   ],
   "source": [
    "cb.dtypes"
   ]
  },
  {
   "cell_type": "markdown",
   "metadata": {},
   "source": [
    "As you can see, we're done with all objects and left with a few numerical data attributes.\n",
    "## numerical data"
   ]
  },
  {
   "cell_type": "code",
   "execution_count": 56,
   "metadata": {},
   "outputs": [
    {
     "data": {
      "text/html": [
       "<div>\n",
       "<style scoped>\n",
       "    .dataframe tbody tr th:only-of-type {\n",
       "        vertical-align: middle;\n",
       "    }\n",
       "\n",
       "    .dataframe tbody tr th {\n",
       "        vertical-align: top;\n",
       "    }\n",
       "\n",
       "    .dataframe thead th {\n",
       "        text-align: right;\n",
       "    }\n",
       "</style>\n",
       "<table border=\"1\" class=\"dataframe\">\n",
       "  <thead>\n",
       "    <tr style=\"text-align: right;\">\n",
       "      <th></th>\n",
       "      <th>seed</th>\n",
       "      <th>venture</th>\n",
       "      <th>equity_crowdfunding</th>\n",
       "      <th>undisclosed</th>\n",
       "      <th>convertible_note</th>\n",
       "      <th>debt_financing</th>\n",
       "      <th>angel</th>\n",
       "      <th>grant</th>\n",
       "      <th>private_equity</th>\n",
       "      <th>post_ipo_equity</th>\n",
       "      <th>...</th>\n",
       "      <th>secondary_market</th>\n",
       "      <th>product_crowdfunding</th>\n",
       "      <th>round_A</th>\n",
       "      <th>round_B</th>\n",
       "      <th>round_C</th>\n",
       "      <th>round_D</th>\n",
       "      <th>round_E</th>\n",
       "      <th>round_F</th>\n",
       "      <th>round_G</th>\n",
       "      <th>round_H</th>\n",
       "    </tr>\n",
       "  </thead>\n",
       "  <tbody>\n",
       "    <tr>\n",
       "      <th>0</th>\n",
       "      <td>1750000</td>\n",
       "      <td>0</td>\n",
       "      <td>0</td>\n",
       "      <td>0</td>\n",
       "      <td>0</td>\n",
       "      <td>0</td>\n",
       "      <td>0</td>\n",
       "      <td>0</td>\n",
       "      <td>0</td>\n",
       "      <td>0</td>\n",
       "      <td>...</td>\n",
       "      <td>0</td>\n",
       "      <td>0</td>\n",
       "      <td>0</td>\n",
       "      <td>0</td>\n",
       "      <td>0</td>\n",
       "      <td>0</td>\n",
       "      <td>0</td>\n",
       "      <td>0</td>\n",
       "      <td>0</td>\n",
       "      <td>0</td>\n",
       "    </tr>\n",
       "    <tr>\n",
       "      <th>1</th>\n",
       "      <td>0</td>\n",
       "      <td>4000000</td>\n",
       "      <td>0</td>\n",
       "      <td>0</td>\n",
       "      <td>0</td>\n",
       "      <td>0</td>\n",
       "      <td>0</td>\n",
       "      <td>0</td>\n",
       "      <td>0</td>\n",
       "      <td>0</td>\n",
       "      <td>...</td>\n",
       "      <td>0</td>\n",
       "      <td>0</td>\n",
       "      <td>0</td>\n",
       "      <td>0</td>\n",
       "      <td>0</td>\n",
       "      <td>0</td>\n",
       "      <td>0</td>\n",
       "      <td>0</td>\n",
       "      <td>0</td>\n",
       "      <td>0</td>\n",
       "    </tr>\n",
       "    <tr>\n",
       "      <th>2</th>\n",
       "      <td>40000</td>\n",
       "      <td>0</td>\n",
       "      <td>0</td>\n",
       "      <td>0</td>\n",
       "      <td>0</td>\n",
       "      <td>0</td>\n",
       "      <td>0</td>\n",
       "      <td>0</td>\n",
       "      <td>0</td>\n",
       "      <td>0</td>\n",
       "      <td>...</td>\n",
       "      <td>0</td>\n",
       "      <td>0</td>\n",
       "      <td>0</td>\n",
       "      <td>0</td>\n",
       "      <td>0</td>\n",
       "      <td>0</td>\n",
       "      <td>0</td>\n",
       "      <td>0</td>\n",
       "      <td>0</td>\n",
       "      <td>0</td>\n",
       "    </tr>\n",
       "    <tr>\n",
       "      <th>3</th>\n",
       "      <td>1500000</td>\n",
       "      <td>0</td>\n",
       "      <td>0</td>\n",
       "      <td>0</td>\n",
       "      <td>0</td>\n",
       "      <td>0</td>\n",
       "      <td>0</td>\n",
       "      <td>0</td>\n",
       "      <td>0</td>\n",
       "      <td>0</td>\n",
       "      <td>...</td>\n",
       "      <td>0</td>\n",
       "      <td>0</td>\n",
       "      <td>0</td>\n",
       "      <td>0</td>\n",
       "      <td>0</td>\n",
       "      <td>0</td>\n",
       "      <td>0</td>\n",
       "      <td>0</td>\n",
       "      <td>0</td>\n",
       "      <td>0</td>\n",
       "    </tr>\n",
       "    <tr>\n",
       "      <th>4</th>\n",
       "      <td>0</td>\n",
       "      <td>0</td>\n",
       "      <td>60000</td>\n",
       "      <td>0</td>\n",
       "      <td>0</td>\n",
       "      <td>0</td>\n",
       "      <td>0</td>\n",
       "      <td>0</td>\n",
       "      <td>0</td>\n",
       "      <td>0</td>\n",
       "      <td>...</td>\n",
       "      <td>0</td>\n",
       "      <td>0</td>\n",
       "      <td>0</td>\n",
       "      <td>0</td>\n",
       "      <td>0</td>\n",
       "      <td>0</td>\n",
       "      <td>0</td>\n",
       "      <td>0</td>\n",
       "      <td>0</td>\n",
       "      <td>0</td>\n",
       "    </tr>\n",
       "  </tbody>\n",
       "</table>\n",
       "<p>5 rows × 21 columns</p>\n",
       "</div>"
      ],
      "text/plain": [
       "      seed  venture  equity_crowdfunding  undisclosed  convertible_note  \\\n",
       "0  1750000        0                    0            0                 0   \n",
       "1        0  4000000                    0            0                 0   \n",
       "2    40000        0                    0            0                 0   \n",
       "3  1500000        0                    0            0                 0   \n",
       "4        0        0                60000            0                 0   \n",
       "\n",
       "   debt_financing  angel  grant  private_equity  post_ipo_equity  ...  \\\n",
       "0               0      0      0               0                0  ...   \n",
       "1               0      0      0               0                0  ...   \n",
       "2               0      0      0               0                0  ...   \n",
       "3               0      0      0               0                0  ...   \n",
       "4               0      0      0               0                0  ...   \n",
       "\n",
       "   secondary_market  product_crowdfunding  round_A  round_B  round_C  round_D  \\\n",
       "0                 0                     0        0        0        0        0   \n",
       "1                 0                     0        0        0        0        0   \n",
       "2                 0                     0        0        0        0        0   \n",
       "3                 0                     0        0        0        0        0   \n",
       "4                 0                     0        0        0        0        0   \n",
       "\n",
       "   round_E  round_F  round_G  round_H  \n",
       "0        0        0        0        0  \n",
       "1        0        0        0        0  \n",
       "2        0        0        0        0  \n",
       "3        0        0        0        0  \n",
       "4        0        0        0        0  \n",
       "\n",
       "[5 rows x 21 columns]"
      ]
     },
     "execution_count": 56,
     "metadata": {},
     "output_type": "execute_result"
    }
   ],
   "source": [
    "cb[cb.columns[11:]].head()"
   ]
  },
  {
   "cell_type": "code",
   "execution_count": 57,
   "metadata": {},
   "outputs": [
    {
     "data": {
      "text/plain": [
       "seed                    0\n",
       "venture                 0\n",
       "equity_crowdfunding     0\n",
       "undisclosed             0\n",
       "convertible_note        0\n",
       "debt_financing          0\n",
       "angel                   0\n",
       "grant                   0\n",
       "private_equity          0\n",
       "post_ipo_equity         0\n",
       "post_ipo_debt           0\n",
       "secondary_market        0\n",
       "product_crowdfunding    0\n",
       "round_A                 0\n",
       "round_B                 0\n",
       "round_C                 0\n",
       "round_D                 0\n",
       "round_E                 0\n",
       "round_F                 0\n",
       "round_G                 0\n",
       "round_H                 0\n",
       "dtype: int64"
      ]
     },
     "execution_count": 57,
     "metadata": {},
     "output_type": "execute_result"
    }
   ],
   "source": [
    "cb[cb.columns[11:]].isna().sum()"
   ]
  },
  {
   "cell_type": "markdown",
   "metadata": {},
   "source": [
    "Good to know there're no null values but clearly we have a lot of zeroes here."
   ]
  },
  {
   "cell_type": "code",
   "execution_count": 58,
   "metadata": {},
   "outputs": [
    {
     "data": {
      "text/plain": [
       "seed                    13840\n",
       "venture                 23277\n",
       "equity_crowdfunding       522\n",
       "undisclosed               952\n",
       "convertible_note          557\n",
       "debt_financing           4225\n",
       "angel                    3129\n",
       "grant                    1142\n",
       "private_equity           1373\n",
       "post_ipo_equity           316\n",
       "post_ipo_debt              75\n",
       "secondary_market           19\n",
       "product_crowdfunding      213\n",
       "round_A                  9003\n",
       "round_B                  5447\n",
       "round_C                  2837\n",
       "round_D                  1288\n",
       "round_E                   516\n",
       "round_F                   172\n",
       "round_G                    34\n",
       "round_H                     4\n",
       "dtype: int64"
      ]
     },
     "execution_count": 58,
     "metadata": {},
     "output_type": "execute_result"
    }
   ],
   "source": [
    "cb.shape[0] - cb[cb.columns[11:]].apply(lambda x : x==0).sum()"
   ]
  },
  {
   "cell_type": "markdown",
   "metadata": {},
   "source": [
    "So, we have these many non-zero attributes in our numerical data.  \n",
    "But, some domain study is required as its unclear what these attributes pose us.  \n",
    "So some googling on what these attributes mean is a must.  \n",
    "# Domain study\n",
    "## seed"
   ]
  },
  {
   "cell_type": "code",
   "execution_count": 59,
   "metadata": {},
   "outputs": [
    {
     "data": {
      "text/plain": [
       "count    1.384000e+04\n",
       "mean     7.762963e+05\n",
       "std      1.886019e+06\n",
       "min      1.400000e+01\n",
       "25%      6.500000e+04\n",
       "50%      3.000000e+05\n",
       "75%      1.000000e+06\n",
       "max      1.300000e+08\n",
       "Name: seed, dtype: float64"
      ]
     },
     "execution_count": 59,
     "metadata": {},
     "output_type": "execute_result"
    }
   ],
   "source": [
    "cb[cb != 0].seed.describe()"
   ]
  },
  {
   "cell_type": "markdown",
   "metadata": {},
   "source": [
    "CrunchBase says, \"Seed rounds are among the first rounds of funding a company will receive, generally while the company is young and working to gain traction. Round sizes range between $10k–$2M, though larger seed rounds have become more common in recent years. A seed round typically comes after an angel round (if applicable) and before a company’s Series A round.\"  \n",
    "27% (i.e. 13480) of our companies have got off the ground easily.\n",
    "## venture"
   ]
  },
  {
   "cell_type": "code",
   "execution_count": 60,
   "metadata": {},
   "outputs": [
    {
     "data": {
      "text/plain": [
       "count    2.327700e+04\n",
       "mean     1.593147e+07\n",
       "std      3.984178e+07\n",
       "min      2.200000e+01\n",
       "25%      1.569037e+06\n",
       "50%      5.400000e+06\n",
       "75%      1.600000e+07\n",
       "max      2.351000e+09\n",
       "Name: venture, dtype: float64"
      ]
     },
     "execution_count": 60,
     "metadata": {},
     "output_type": "execute_result"
    }
   ],
   "source": [
    "cb[cb != 0].venture.describe()"
   ]
  },
  {
   "cell_type": "markdown",
   "metadata": {},
   "source": [
    "CrunchBase says, \"Venture funding refers to an investment that comes from a venture capital firm and describes Series A, Series B, and later rounds. This funding type is used for any funding round that is clearly a venture round but where the series has not been specified.\"  \n",
    "Basically investors investing in these companies beleiving they'll become huge successes reulting in handsome profits for these investors.  \n",
    "47% (i.e. 23277) of our companies have been shown interest from investors.\n",
    "## equity_crowdfunding"
   ]
  },
  {
   "cell_type": "code",
   "execution_count": 61,
   "metadata": {},
   "outputs": [
    {
     "data": {
      "text/plain": [
       "count    5.220000e+02\n",
       "mean     5.837209e+05\n",
       "std      1.858536e+06\n",
       "min      5.000000e+01\n",
       "25%      1.864475e+04\n",
       "50%      9.183100e+04\n",
       "75%      3.974592e+05\n",
       "max      2.500000e+07\n",
       "Name: equity_crowdfunding, dtype: float64"
      ]
     },
     "execution_count": 61,
     "metadata": {},
     "output_type": "execute_result"
    }
   ],
   "source": [
    "cb[cb != 0].equity_crowdfunding.describe()"
   ]
  },
  {
   "cell_type": "markdown",
   "metadata": {},
   "source": [
    "CrunchBase says, \"Equity crowdfunding platforms allow individual users to invest in companies in exchange for equity. Typically on these platforms the investors invest small amounts of money, though syndicates are formed to allow an individual to take a lead on evaluating an investment and pooling funding from a group of individual investors.\"  \n",
    "People around the globe (or just crowd) buying shares of the company that is being started up.  \n",
    "1% (i.e. 522) of our companies have their shares being bought through equity_crowdfunding.\n",
    "## undisclosed"
   ]
  },
  {
   "cell_type": "code",
   "execution_count": 62,
   "metadata": {},
   "outputs": [
    {
     "data": {
      "text/plain": [
       "count    9.520000e+02\n",
       "mean     6.762479e+06\n",
       "std      2.042494e+07\n",
       "min      1.000000e+00\n",
       "25%      2.619370e+05\n",
       "50%      1.080012e+06\n",
       "75%      5.075451e+06\n",
       "max      2.924328e+08\n",
       "Name: undisclosed, dtype: float64"
      ]
     },
     "execution_count": 62,
     "metadata": {},
     "output_type": "execute_result"
    }
   ],
   "source": [
    "cb[cb != 0].undisclosed.describe()"
   ]
  },
  {
   "cell_type": "markdown",
   "metadata": {},
   "source": [
    "Couldn't find what that means.  \n",
    "Almost 2% (i.e. 952) non-zero values here.\n",
    "## convertible_note"
   ]
  },
  {
   "cell_type": "code",
   "execution_count": 63,
   "metadata": {},
   "outputs": [
    {
     "data": {
      "text/plain": [
       "count    5.570000e+02\n",
       "mean     2.073742e+06\n",
       "std      1.334482e+07\n",
       "min      3.000000e+01\n",
       "25%      1.350000e+05\n",
       "50%      5.000000e+05\n",
       "75%      1.500000e+06\n",
       "max      3.000000e+08\n",
       "Name: convertible_note, dtype: float64"
      ]
     },
     "execution_count": 63,
     "metadata": {},
     "output_type": "execute_result"
    }
   ],
   "source": [
    "cb[cb != 0].convertible_note.describe()"
   ]
  },
  {
   "cell_type": "markdown",
   "metadata": {},
   "source": [
    "CrunchBase says, \"A convertible note is an ‘in-between’ round funding to help companies hold over until they want to raise their next round of funding. When they raise the next round, this note ‘converts’ with a discount at the price of the new round. You will typically see convertible notes after a company raises, for example, a Series A round but does not yet want to raise a Series B round.\"  \n",
    "1% (i.e. 557) of our companies are funded in this way.\n",
    "## debt_financing"
   ]
  },
  {
   "cell_type": "code",
   "execution_count": 64,
   "metadata": {},
   "outputs": [
    {
     "data": {
      "text/plain": [
       "count    4.225000e+03\n",
       "mean     2.209389e+07\n",
       "std      4.723374e+08\n",
       "min      1.000000e+02\n",
       "25%      3.877940e+05\n",
       "50%      1.400000e+06\n",
       "75%      5.000000e+06\n",
       "max      3.007950e+10\n",
       "Name: debt_financing, dtype: float64"
      ]
     },
     "execution_count": 64,
     "metadata": {},
     "output_type": "execute_result"
    }
   ],
   "source": [
    "cb[cb != 0].debt_financing.describe()"
   ]
  },
  {
   "cell_type": "markdown",
   "metadata": {},
   "source": [
    "CrunchBase says, \"In a debt round, an investor lends money to a company, and the company promises to repay the debt with added interest.\"  \n",
    "Basically loans taken by the companies.  \n",
    "8% (i.e. 4225) companies have taken loans.\n",
    "## angel"
   ]
  },
  {
   "cell_type": "code",
   "execution_count": 65,
   "metadata": {},
   "outputs": [
    {
     "data": {
      "text/plain": [
       "count    3.129000e+03\n",
       "mean     1.033616e+06\n",
       "std      2.418230e+06\n",
       "min      2.300000e+01\n",
       "25%      2.000000e+05\n",
       "50%      5.000000e+05\n",
       "75%      1.000000e+06\n",
       "max      6.359026e+07\n",
       "Name: angel, dtype: float64"
      ]
     },
     "execution_count": 65,
     "metadata": {},
     "output_type": "execute_result"
    }
   ],
   "source": [
    "cb[cb != 0].angel.describe()"
   ]
  },
  {
   "cell_type": "markdown",
   "metadata": {},
   "source": [
    "CrunchBase says, \"An angel round is typically a small round designed to get a new company off the ground. Investors in an angel round include individual angel investors, angel investor groups, friends, and family.\"  \n",
    "Again investor in return for shares or debt.  \n",
    "6% (i.e. 3129) companies have angel investors.\n",
    "## grant"
   ]
  },
  {
   "cell_type": "code",
   "execution_count": 66,
   "metadata": {},
   "outputs": [
    {
     "data": {
      "text/plain": [
       "count    1.142000e+03\n",
       "mean     7.049689e+06\n",
       "std      3.627725e+07\n",
       "min      3.000000e+02\n",
       "25%      8.564225e+04\n",
       "50%      5.000000e+05\n",
       "75%      3.000000e+06\n",
       "max      7.505000e+08\n",
       "Name: grant, dtype: float64"
      ]
     },
     "execution_count": 66,
     "metadata": {},
     "output_type": "execute_result"
    }
   ],
   "source": [
    "cb[cb != 0].grant.describe()"
   ]
  },
  {
   "cell_type": "markdown",
   "metadata": {},
   "source": [
    "CrunchBase says, \"A grant is when a company, investor, or government agency provides capital to a company without taking an equity stake in the company.\"  \n",
    "These are non-returnable sums of money.  \n",
    "2% (i.e. 1142) companies have benefited from grants.\n",
    "## private_equity"
   ]
  },
  {
   "cell_type": "code",
   "execution_count": 67,
   "metadata": {},
   "outputs": [
    {
     "data": {
      "text/plain": [
       "2.777215906792346"
      ]
     },
     "execution_count": 67,
     "metadata": {},
     "output_type": "execute_result"
    }
   ],
   "source": [
    "137300/cb.shape[0]"
   ]
  },
  {
   "cell_type": "code",
   "execution_count": 68,
   "metadata": {},
   "outputs": [
    {
     "data": {
      "text/plain": [
       "count    1.373000e+03\n",
       "mean     7.468939e+07\n",
       "std      1.752662e+08\n",
       "min      6.000000e+01\n",
       "25%      4.500000e+06\n",
       "50%      1.800000e+07\n",
       "75%      8.500000e+07\n",
       "max      3.500000e+09\n",
       "Name: private_equity, dtype: float64"
      ]
     },
     "execution_count": 68,
     "metadata": {},
     "output_type": "execute_result"
    }
   ],
   "source": [
    "cb[cb != 0].private_equity.describe()"
   ]
  },
  {
   "cell_type": "markdown",
   "metadata": {},
   "source": [
    "CrunchBase says, \"A private equity round is led by a private equity firm or a hedge fund and is a late stage round. It is a less risky investment because the company is more firmly established, and the rounds are typically upwards of $50M.\"\n",
    "## post_ipo_equity, post_ipo_debt"
   ]
  },
  {
   "cell_type": "code",
   "execution_count": 69,
   "metadata": {},
   "outputs": [
    {
     "data": {
      "text/html": [
       "<div>\n",
       "<style scoped>\n",
       "    .dataframe tbody tr th:only-of-type {\n",
       "        vertical-align: middle;\n",
       "    }\n",
       "\n",
       "    .dataframe tbody tr th {\n",
       "        vertical-align: top;\n",
       "    }\n",
       "\n",
       "    .dataframe thead th {\n",
       "        text-align: right;\n",
       "    }\n",
       "</style>\n",
       "<table border=\"1\" class=\"dataframe\">\n",
       "  <thead>\n",
       "    <tr style=\"text-align: right;\">\n",
       "      <th></th>\n",
       "      <th>post_ipo_equity</th>\n",
       "      <th>post_ipo_debt</th>\n",
       "    </tr>\n",
       "  </thead>\n",
       "  <tbody>\n",
       "    <tr>\n",
       "      <th>count</th>\n",
       "      <td>3.160000e+02</td>\n",
       "      <td>7.500000e+01</td>\n",
       "    </tr>\n",
       "    <tr>\n",
       "      <th>mean</th>\n",
       "      <td>9.525790e+07</td>\n",
       "      <td>2.923012e+08</td>\n",
       "    </tr>\n",
       "    <tr>\n",
       "      <th>std</th>\n",
       "      <td>3.217748e+08</td>\n",
       "      <td>8.358664e+08</td>\n",
       "    </tr>\n",
       "    <tr>\n",
       "      <th>min</th>\n",
       "      <td>1.050000e+04</td>\n",
       "      <td>9.075000e+04</td>\n",
       "    </tr>\n",
       "    <tr>\n",
       "      <th>25%</th>\n",
       "      <td>6.000000e+06</td>\n",
       "      <td>1.000000e+07</td>\n",
       "    </tr>\n",
       "    <tr>\n",
       "      <th>50%</th>\n",
       "      <td>2.000000e+07</td>\n",
       "      <td>3.000000e+07</td>\n",
       "    </tr>\n",
       "    <tr>\n",
       "      <th>75%</th>\n",
       "      <td>6.640000e+07</td>\n",
       "      <td>1.500000e+08</td>\n",
       "    </tr>\n",
       "    <tr>\n",
       "      <th>max</th>\n",
       "      <td>4.700000e+09</td>\n",
       "      <td>5.800000e+09</td>\n",
       "    </tr>\n",
       "  </tbody>\n",
       "</table>\n",
       "</div>"
      ],
      "text/plain": [
       "       post_ipo_equity  post_ipo_debt\n",
       "count     3.160000e+02   7.500000e+01\n",
       "mean      9.525790e+07   2.923012e+08\n",
       "std       3.217748e+08   8.358664e+08\n",
       "min       1.050000e+04   9.075000e+04\n",
       "25%       6.000000e+06   1.000000e+07\n",
       "50%       2.000000e+07   3.000000e+07\n",
       "75%       6.640000e+07   1.500000e+08\n",
       "max       4.700000e+09   5.800000e+09"
      ]
     },
     "execution_count": 69,
     "metadata": {},
     "output_type": "execute_result"
    }
   ],
   "source": [
    "cb[cb != 0][['post_ipo_equity', 'post_ipo_debt']].describe()"
   ]
  },
  {
   "cell_type": "markdown",
   "metadata": {},
   "source": [
    "\"Post-IPO\" refers to the period after a company's initial public offering of stock, which is its debut in the equity financial markets.  \n",
    "Post-IPO Equity: A post-IPO equity round takes place when firms invest in a company after the company has already gone public.  \n",
    "Post-IPO Debt: A post-IPO debt round takes place when firms loan a company money after the company has already gone public.  \n",
    "Similar to debt financing, a company will promise to repay the principal as well as added interest on the debt.\n",
    "## secondary_market"
   ]
  },
  {
   "cell_type": "code",
   "execution_count": 70,
   "metadata": {},
   "outputs": [
    {
     "data": {
      "text/plain": [
       "count    1.900000e+01\n",
       "mean     1.000623e+08\n",
       "std      1.745042e+08\n",
       "min      1.569290e+05\n",
       "25%      5.446198e+06\n",
       "50%      1.930000e+07\n",
       "75%      1.027502e+08\n",
       "max      6.806116e+08\n",
       "Name: secondary_market, dtype: float64"
      ]
     },
     "execution_count": 70,
     "metadata": {},
     "output_type": "execute_result"
    }
   ],
   "source": [
    "cb[cb != 0].secondary_market.describe()"
   ]
  },
  {
   "cell_type": "markdown",
   "metadata": {},
   "source": [
    "CrunchBase says, \"A secondary market transaction is a fundraising event in which one investor purchases shares of stock in a company from other, existing shareholders rather than from the company directly. These transactions often occur when a private company becomes highly valuable and early stage investors or employees want to earn a profit on their investment, and these transactions are rarely announced or publicized.\"\n",
    "## product_crowdfunding"
   ]
  },
  {
   "cell_type": "code",
   "execution_count": 71,
   "metadata": {},
   "outputs": [
    {
     "data": {
      "text/plain": [
       "count    2.130000e+02\n",
       "mean     1.641951e+06\n",
       "std      6.329573e+06\n",
       "min      2.150000e+02\n",
       "25%      1.047910e+05\n",
       "50%      3.214710e+05\n",
       "75%      1.229074e+06\n",
       "max      7.200000e+07\n",
       "Name: product_crowdfunding, dtype: float64"
      ]
     },
     "execution_count": 71,
     "metadata": {},
     "output_type": "execute_result"
    }
   ],
   "source": [
    "cb[cb != 0].product_crowdfunding.describe()"
   ]
  },
  {
   "cell_type": "markdown",
   "metadata": {},
   "source": [
    "CrunchBase says, \"In a product crowdfunding round, a company will provide its product, which is often still in development, in exchange for capital. This kind of round is also typically completed on a funding platform.\"  \n",
    "## The 8 Rounds"
   ]
  },
  {
   "cell_type": "markdown",
   "metadata": {},
   "source": [
    "Google says, \"Startup funding rounds are a series of investments that raise capital for a new business. As a startup expands and becomes successful, each funding round serves as a stepping stone toward greater growth.\"  "
   ]
  },
  {
   "cell_type": "code",
   "execution_count": 72,
   "metadata": {},
   "outputs": [
    {
     "data": {
      "text/html": [
       "<div>\n",
       "<style scoped>\n",
       "    .dataframe tbody tr th:only-of-type {\n",
       "        vertical-align: middle;\n",
       "    }\n",
       "\n",
       "    .dataframe tbody tr th {\n",
       "        vertical-align: top;\n",
       "    }\n",
       "\n",
       "    .dataframe thead th {\n",
       "        text-align: right;\n",
       "    }\n",
       "</style>\n",
       "<table border=\"1\" class=\"dataframe\">\n",
       "  <thead>\n",
       "    <tr style=\"text-align: right;\">\n",
       "      <th></th>\n",
       "      <th>round_A</th>\n",
       "      <th>round_B</th>\n",
       "      <th>round_C</th>\n",
       "      <th>round_D</th>\n",
       "      <th>round_E</th>\n",
       "      <th>round_F</th>\n",
       "      <th>round_G</th>\n",
       "      <th>round_H</th>\n",
       "    </tr>\n",
       "  </thead>\n",
       "  <tbody>\n",
       "    <tr>\n",
       "      <th>count</th>\n",
       "      <td>9.003000e+03</td>\n",
       "      <td>5.447000e+03</td>\n",
       "      <td>2.837000e+03</td>\n",
       "      <td>1.288000e+03</td>\n",
       "      <td>5.160000e+02</td>\n",
       "      <td>1.720000e+02</td>\n",
       "      <td>3.400000e+01</td>\n",
       "      <td>4.000000e+00</td>\n",
       "    </tr>\n",
       "    <tr>\n",
       "      <th>mean</th>\n",
       "      <td>6.830906e+06</td>\n",
       "      <td>1.354976e+07</td>\n",
       "      <td>2.100472e+07</td>\n",
       "      <td>2.830886e+07</td>\n",
       "      <td>3.281190e+07</td>\n",
       "      <td>4.879680e+07</td>\n",
       "      <td>8.385654e+07</td>\n",
       "      <td>1.759000e+08</td>\n",
       "    </tr>\n",
       "    <tr>\n",
       "      <th>std</th>\n",
       "      <td>1.139716e+07</td>\n",
       "      <td>1.853406e+07</td>\n",
       "      <td>2.641650e+07</td>\n",
       "      <td>5.403232e+07</td>\n",
       "      <td>4.170025e+07</td>\n",
       "      <td>9.490798e+07</td>\n",
       "      <td>1.846279e+08</td>\n",
       "      <td>2.835248e+08</td>\n",
       "    </tr>\n",
       "    <tr>\n",
       "      <th>min</th>\n",
       "      <td>4.000000e+00</td>\n",
       "      <td>1.000000e+03</td>\n",
       "      <td>2.000000e+03</td>\n",
       "      <td>5.000000e+03</td>\n",
       "      <td>3.270540e+05</td>\n",
       "      <td>6.000000e+04</td>\n",
       "      <td>8.184270e+05</td>\n",
       "      <td>4.600000e+06</td>\n",
       "    </tr>\n",
       "    <tr>\n",
       "      <th>25%</th>\n",
       "      <td>2.000000e+06</td>\n",
       "      <td>5.000000e+06</td>\n",
       "      <td>8.000000e+06</td>\n",
       "      <td>9.655000e+06</td>\n",
       "      <td>1.013750e+07</td>\n",
       "      <td>1.067500e+07</td>\n",
       "      <td>1.000000e+07</td>\n",
       "      <td>3.790000e+07</td>\n",
       "    </tr>\n",
       "    <tr>\n",
       "      <th>50%</th>\n",
       "      <td>4.200000e+06</td>\n",
       "      <td>1.000000e+07</td>\n",
       "      <td>1.500000e+07</td>\n",
       "      <td>1.700000e+07</td>\n",
       "      <td>2.000000e+07</td>\n",
       "      <td>2.273400e+07</td>\n",
       "      <td>2.550000e+07</td>\n",
       "      <td>4.950000e+07</td>\n",
       "    </tr>\n",
       "    <tr>\n",
       "      <th>75%</th>\n",
       "      <td>7.687500e+06</td>\n",
       "      <td>1.600000e+07</td>\n",
       "      <td>2.500000e+07</td>\n",
       "      <td>3.200000e+07</td>\n",
       "      <td>3.900000e+07</td>\n",
       "      <td>5.000000e+07</td>\n",
       "      <td>6.225000e+07</td>\n",
       "      <td>1.875000e+08</td>\n",
       "    </tr>\n",
       "    <tr>\n",
       "      <th>max</th>\n",
       "      <td>3.190000e+08</td>\n",
       "      <td>5.420000e+08</td>\n",
       "      <td>4.900000e+08</td>\n",
       "      <td>1.200000e+09</td>\n",
       "      <td>4.000000e+08</td>\n",
       "      <td>1.060000e+09</td>\n",
       "      <td>1.000000e+09</td>\n",
       "      <td>6.000000e+08</td>\n",
       "    </tr>\n",
       "  </tbody>\n",
       "</table>\n",
       "</div>"
      ],
      "text/plain": [
       "            round_A       round_B       round_C       round_D       round_E  \\\n",
       "count  9.003000e+03  5.447000e+03  2.837000e+03  1.288000e+03  5.160000e+02   \n",
       "mean   6.830906e+06  1.354976e+07  2.100472e+07  2.830886e+07  3.281190e+07   \n",
       "std    1.139716e+07  1.853406e+07  2.641650e+07  5.403232e+07  4.170025e+07   \n",
       "min    4.000000e+00  1.000000e+03  2.000000e+03  5.000000e+03  3.270540e+05   \n",
       "25%    2.000000e+06  5.000000e+06  8.000000e+06  9.655000e+06  1.013750e+07   \n",
       "50%    4.200000e+06  1.000000e+07  1.500000e+07  1.700000e+07  2.000000e+07   \n",
       "75%    7.687500e+06  1.600000e+07  2.500000e+07  3.200000e+07  3.900000e+07   \n",
       "max    3.190000e+08  5.420000e+08  4.900000e+08  1.200000e+09  4.000000e+08   \n",
       "\n",
       "            round_F       round_G       round_H  \n",
       "count  1.720000e+02  3.400000e+01  4.000000e+00  \n",
       "mean   4.879680e+07  8.385654e+07  1.759000e+08  \n",
       "std    9.490798e+07  1.846279e+08  2.835248e+08  \n",
       "min    6.000000e+04  8.184270e+05  4.600000e+06  \n",
       "25%    1.067500e+07  1.000000e+07  3.790000e+07  \n",
       "50%    2.273400e+07  2.550000e+07  4.950000e+07  \n",
       "75%    5.000000e+07  6.225000e+07  1.875000e+08  \n",
       "max    1.060000e+09  1.000000e+09  6.000000e+08  "
      ]
     },
     "execution_count": 72,
     "metadata": {},
     "output_type": "execute_result"
    }
   ],
   "source": [
    "cb[cb != 0][cb.columns[-8:]].describe()"
   ]
  },
  {
   "cell_type": "markdown",
   "metadata": {},
   "source": [
    "After the seed round,  \n",
    "Series_A - Blueprint  \n",
    "Series_B - Getting large scaled  \n",
    "Series_C - Getting international  \n",
    "Series_D - New opportunity or a down round leading to this round  \n",
    "Series_E - Want to stay private longer  \n",
    "Series_F - A venture  \n",
    "Series_G - Delay in failure  \n",
    "Series_H - Delay goes on ..."
   ]
  },
  {
   "cell_type": "code",
   "execution_count": 73,
   "metadata": {},
   "outputs": [
    {
     "data": {
      "text/html": [
       "<div>\n",
       "<style scoped>\n",
       "    .dataframe tbody tr th:only-of-type {\n",
       "        vertical-align: middle;\n",
       "    }\n",
       "\n",
       "    .dataframe tbody tr th {\n",
       "        vertical-align: top;\n",
       "    }\n",
       "\n",
       "    .dataframe thead th {\n",
       "        text-align: right;\n",
       "    }\n",
       "</style>\n",
       "<table border=\"1\" class=\"dataframe\">\n",
       "  <thead>\n",
       "    <tr style=\"text-align: right;\">\n",
       "      <th></th>\n",
       "      <th>Organization</th>\n",
       "      <th>homepage_url</th>\n",
       "      <th>category_list</th>\n",
       "      <th>Funding($)</th>\n",
       "      <th>status</th>\n",
       "      <th>Location</th>\n",
       "      <th>funding_rounds</th>\n",
       "      <th>founded_at</th>\n",
       "      <th>founded_quarter</th>\n",
       "      <th>first_funding_at</th>\n",
       "      <th>...</th>\n",
       "      <th>secondary_market</th>\n",
       "      <th>product_crowdfunding</th>\n",
       "      <th>round_A</th>\n",
       "      <th>round_B</th>\n",
       "      <th>round_C</th>\n",
       "      <th>round_D</th>\n",
       "      <th>round_E</th>\n",
       "      <th>round_F</th>\n",
       "      <th>round_G</th>\n",
       "      <th>round_H</th>\n",
       "    </tr>\n",
       "  </thead>\n",
       "  <tbody>\n",
       "    <tr>\n",
       "      <th>11260</th>\n",
       "      <td>deem</td>\n",
       "      <td>http://www.deem.com</td>\n",
       "      <td>[E-Commerce, Trading, Marketplaces, Content Sy...</td>\n",
       "      <td>516905435</td>\n",
       "      <td>operating</td>\n",
       "      <td>[USA, CA, SF Bay Area, San Francisco]</td>\n",
       "      <td>11</td>\n",
       "      <td>2000-01-01</td>\n",
       "      <td>2000-Q1</td>\n",
       "      <td>2004-01-01</td>\n",
       "      <td>...</td>\n",
       "      <td>0</td>\n",
       "      <td>0</td>\n",
       "      <td>0</td>\n",
       "      <td>0</td>\n",
       "      <td>25000000</td>\n",
       "      <td>32500000</td>\n",
       "      <td>100000000</td>\n",
       "      <td>40000000</td>\n",
       "      <td>69985435</td>\n",
       "      <td>50000000</td>\n",
       "    </tr>\n",
       "    <tr>\n",
       "      <th>15569</th>\n",
       "      <td>flipkart</td>\n",
       "      <td>http://www.flipkart.com</td>\n",
       "      <td>[Online Shopping, E-Commerce]</td>\n",
       "      <td>2351140000</td>\n",
       "      <td>operating</td>\n",
       "      <td>[IND, None, Bangalore, Bangalore]</td>\n",
       "      <td>11</td>\n",
       "      <td>2007-09-01</td>\n",
       "      <td>2007-Q3</td>\n",
       "      <td>2009-01-01</td>\n",
       "      <td>...</td>\n",
       "      <td>0</td>\n",
       "      <td>0</td>\n",
       "      <td>1000000</td>\n",
       "      <td>10000000</td>\n",
       "      <td>20000000</td>\n",
       "      <td>150000000</td>\n",
       "      <td>360000000</td>\n",
       "      <td>210000000</td>\n",
       "      <td>1000000000</td>\n",
       "      <td>600000000</td>\n",
       "    </tr>\n",
       "    <tr>\n",
       "      <th>18233</th>\n",
       "      <td>gumi</td>\n",
       "      <td>http://gu3.co.jp</td>\n",
       "      <td>[Games]</td>\n",
       "      <td>94000000</td>\n",
       "      <td>operating</td>\n",
       "      <td>[SGP, None, Singapore, Singapore]</td>\n",
       "      <td>3</td>\n",
       "      <td>2007-01-01</td>\n",
       "      <td>2007-Q1</td>\n",
       "      <td>2011-12-05</td>\n",
       "      <td>...</td>\n",
       "      <td>0</td>\n",
       "      <td>0</td>\n",
       "      <td>0</td>\n",
       "      <td>0</td>\n",
       "      <td>0</td>\n",
       "      <td>0</td>\n",
       "      <td>0</td>\n",
       "      <td>26000000</td>\n",
       "      <td>19000000</td>\n",
       "      <td>49000000</td>\n",
       "    </tr>\n",
       "    <tr>\n",
       "      <th>24540</th>\n",
       "      <td>locondo-jp</td>\n",
       "      <td>http://locondo.jp</td>\n",
       "      <td>[E-Commerce]</td>\n",
       "      <td>10800000</td>\n",
       "      <td>operating</td>\n",
       "      <td>[JPN, None, JPN - Other, None]</td>\n",
       "      <td>2</td>\n",
       "      <td>2010-10-22</td>\n",
       "      <td>2010-Q4</td>\n",
       "      <td>2013-06-13</td>\n",
       "      <td>...</td>\n",
       "      <td>0</td>\n",
       "      <td>0</td>\n",
       "      <td>0</td>\n",
       "      <td>6200000</td>\n",
       "      <td>0</td>\n",
       "      <td>0</td>\n",
       "      <td>0</td>\n",
       "      <td>0</td>\n",
       "      <td>0</td>\n",
       "      <td>4600000</td>\n",
       "    </tr>\n",
       "  </tbody>\n",
       "</table>\n",
       "<p>4 rows × 32 columns</p>\n",
       "</div>"
      ],
      "text/plain": [
       "      Organization             homepage_url  \\\n",
       "11260         deem      http://www.deem.com   \n",
       "15569     flipkart  http://www.flipkart.com   \n",
       "18233         gumi         http://gu3.co.jp   \n",
       "24540   locondo-jp        http://locondo.jp   \n",
       "\n",
       "                                           category_list  Funding($)  \\\n",
       "11260  [E-Commerce, Trading, Marketplaces, Content Sy...   516905435   \n",
       "15569                      [Online Shopping, E-Commerce]  2351140000   \n",
       "18233                                            [Games]    94000000   \n",
       "24540                                       [E-Commerce]    10800000   \n",
       "\n",
       "          status                               Location funding_rounds  \\\n",
       "11260  operating  [USA, CA, SF Bay Area, San Francisco]             11   \n",
       "15569  operating      [IND, None, Bangalore, Bangalore]             11   \n",
       "18233  operating      [SGP, None, Singapore, Singapore]              3   \n",
       "24540  operating         [JPN, None, JPN - Other, None]              2   \n",
       "\n",
       "       founded_at founded_quarter first_funding_at  ... secondary_market  \\\n",
       "11260  2000-01-01         2000-Q1       2004-01-01  ...                0   \n",
       "15569  2007-09-01         2007-Q3       2009-01-01  ...                0   \n",
       "18233  2007-01-01         2007-Q1       2011-12-05  ...                0   \n",
       "24540  2010-10-22         2010-Q4       2013-06-13  ...                0   \n",
       "\n",
       "       product_crowdfunding  round_A   round_B   round_C    round_D  \\\n",
       "11260                     0        0         0  25000000   32500000   \n",
       "15569                     0  1000000  10000000  20000000  150000000   \n",
       "18233                     0        0         0         0          0   \n",
       "24540                     0        0   6200000         0          0   \n",
       "\n",
       "         round_E    round_F     round_G    round_H  \n",
       "11260  100000000   40000000    69985435   50000000  \n",
       "15569  360000000  210000000  1000000000  600000000  \n",
       "18233          0   26000000    19000000   49000000  \n",
       "24540          0          0           0    4600000  \n",
       "\n",
       "[4 rows x 32 columns]"
      ]
     },
     "execution_count": 73,
     "metadata": {},
     "output_type": "execute_result"
    }
   ],
   "source": [
    "cb[cb.round_H != 0]"
   ]
  },
  {
   "cell_type": "markdown",
   "metadata": {},
   "source": [
    "Let's look if any company has not participated in any of the rounds."
   ]
  },
  {
   "cell_type": "code",
   "execution_count": 74,
   "metadata": {},
   "outputs": [
    {
     "data": {
      "text/plain": [
       "0    36680\n",
       "1     8518\n",
       "2     2699\n",
       "3     1010\n",
       "4      355\n",
       "5      128\n",
       "6       42\n",
       "7        5\n",
       "8        1\n",
       "Name: no_of_rounds, dtype: int64"
      ]
     },
     "execution_count": 74,
     "metadata": {},
     "output_type": "execute_result"
    }
   ],
   "source": [
    "def empty(x):\n",
    "    flag = 0\n",
    "    for i in range(8):\n",
    "        if x[i] != 0:\n",
    "            flag += 1\n",
    "    return flag\n",
    "cb['no_of_rounds'] = cb[cb.columns[-8:]].apply(empty, axis = 1)\n",
    "cb['no_of_rounds'].value_counts()"
   ]
  },
  {
   "cell_type": "markdown",
   "metadata": {},
   "source": [
    "36680 (i.e. 74%) companies have not participated in any rounds.  \n",
    "Let's check if all other rounds are well placed i.e. if they all start from round_A and also are they continuous."
   ]
  },
  {
   "cell_type": "code",
   "execution_count": 89,
   "metadata": {},
   "outputs": [
    {
     "data": {
      "text/plain": [
       "True     49124\n",
       "False      314\n",
       "dtype: int64"
      ]
     },
     "execution_count": 89,
     "metadata": {},
     "output_type": "execute_result"
    }
   ],
   "source": [
    "def spacing(x):\n",
    "    flag = 0\n",
    "    for i in range(8):\n",
    "        if x[i] != 0:\n",
    "            flag = i\n",
    "            break\n",
    "    for j in range(i,i+x[8]):\n",
    "        if x[j] == 0 :\n",
    "            return False\n",
    "    return True\n",
    "cb[cb.columns[-9:]].apply(spacing, axis = 1).value_counts()"
   ]
  },
  {
   "cell_type": "markdown",
   "metadata": {},
   "source": [
    "There are 314 data instances where there're 0s between rounds which make no point.  \n",
    "Also, there're are a few instances where the funding rounds don't start from round_A.  \n",
    "All this needs some fixing.  "
   ]
  },
  {
   "cell_type": "code",
   "execution_count": 118,
   "metadata": {},
   "outputs": [
    {
     "name": "stdout",
     "output_type": "stream",
     "text": [
      "round_A     25000000\n",
      "round_B     32500000\n",
      "round_C    100000000\n",
      "round_D     40000000\n",
      "round_E     69985435\n",
      "round_F     50000000\n",
      "round_G            0\n",
      "round_H            0\n",
      "Name: 11260, dtype: int64\n"
     ]
    },
    {
     "data": {
      "text/plain": [
       "round_A      479014\n",
       "round_B    83961305\n",
       "round_C           0\n",
       "round_D           0\n",
       "round_E           0\n",
       "round_F           0\n",
       "round_G           0\n",
       "round_H           0\n",
       "Name: 63, dtype: int64"
      ]
     },
     "execution_count": 118,
     "metadata": {},
     "output_type": "execute_result"
    }
   ],
   "source": [
    "print(cb[cb.columns[-9:-1]].iloc[11260])\n",
    "cb[cb.columns[-9:-1]].iloc[63]"
   ]
  },
  {
   "cell_type": "markdown",
   "metadata": {},
   "source": [
    "We're taking two specific data instances to check our operation."
   ]
  },
  {
   "cell_type": "code",
   "execution_count": 109,
   "metadata": {},
   "outputs": [],
   "source": [
    "def round_fix(x):\n",
    "    li = []\n",
    "    li = [0 for i in range(8)]\n",
    "    k = 0\n",
    "    for j in range(8):\n",
    "        if x[j] != 0:\n",
    "            li[k] = x[j]\n",
    "            k += 1\n",
    "    return pd.Series(li)\n",
    "cb[cb.columns[-9:-1]] = cb[cb.columns[-9:-1]].apply(round_fix, axis = 1)"
   ]
  },
  {
   "cell_type": "code",
   "execution_count": 119,
   "metadata": {},
   "outputs": [
    {
     "name": "stdout",
     "output_type": "stream",
     "text": [
      "round_A     25000000\n",
      "round_B     32500000\n",
      "round_C    100000000\n",
      "round_D     40000000\n",
      "round_E     69985435\n",
      "round_F     50000000\n",
      "round_G            0\n",
      "round_H            0\n",
      "Name: 11260, dtype: int64\n"
     ]
    },
    {
     "data": {
      "text/plain": [
       "round_A      479014\n",
       "round_B    83961305\n",
       "round_C           0\n",
       "round_D           0\n",
       "round_E           0\n",
       "round_F           0\n",
       "round_G           0\n",
       "round_H           0\n",
       "Name: 63, dtype: int64"
      ]
     },
     "execution_count": 119,
     "metadata": {},
     "output_type": "execute_result"
    }
   ],
   "source": [
    "print(cb[cb.columns[-9:-1]].iloc[11260])\n",
    "cb[cb.columns[-9:-1]].iloc[63]"
   ]
  },
  {
   "cell_type": "markdown",
   "metadata": {},
   "source": []
  },
  {
   "cell_type": "code",
   "execution_count": null,
   "metadata": {},
   "outputs": [],
   "source": []
  }
 ],
 "metadata": {
  "kernelspec": {
   "display_name": "Python 3",
   "language": "python",
   "name": "python3"
  },
  "language_info": {
   "codemirror_mode": {
    "name": "ipython",
    "version": 3
   },
   "file_extension": ".py",
   "mimetype": "text/x-python",
   "name": "python",
   "nbconvert_exporter": "python",
   "pygments_lexer": "ipython3",
   "version": "3.7.4"
  }
 },
 "nbformat": 4,
 "nbformat_minor": 2
}
